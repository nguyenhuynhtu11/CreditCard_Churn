{
 "cells": [
  {
   "cell_type": "code",
   "execution_count": 54,
   "metadata": {
    "execution": {
     "iopub.execute_input": "2022-11-28T00:34:07.063716Z",
     "iopub.status.busy": "2022-11-28T00:34:07.063716Z",
     "iopub.status.idle": "2022-11-28T00:34:18.432435Z",
     "shell.execute_reply": "2022-11-28T00:34:18.431497Z",
     "shell.execute_reply.started": "2022-11-28T00:34:07.063716Z"
    },
    "tags": []
   },
   "outputs": [],
   "source": [
    "import os\n",
    "import pandas as pd\n",
    "import numpy as np\n",
    "import joblib\n",
    "\n",
    "# To remove these warnings : \"Your kernel may have been built without NUMA support.\"\n",
    "#   run these 2 lines before importing tensorflow\n",
    "os.environ['TF_CPP_MIN_LOG_LEVEL'] = '1'        # or any {'0', '1', '2', '3'}\n",
    "\n",
    "import tensorflow as tf \n",
    "random_state = 10\n",
    "np.random.seed(random_state)\n",
    "tf.random.set_seed(random_state)\n",
    "\n",
    "# store elements as dictionary keys and their counts as dictionary values\n",
    "from collections import Counter\n",
    "\n",
    "# scikit-learn\n",
    "from sklearn.model_selection import train_test_split, StratifiedKFold, RandomizedSearchCV\n",
    "\n",
    "from sklearn.preprocessing import MinMaxScaler, OneHotEncoder\n",
    "from sklearn.compose import make_column_transformer\n",
    "\n",
    "# Classification metrics\n",
    "from sklearn.metrics import confusion_matrix, classification_report, accuracy_score\n",
    "\n",
    "# Function for creating model pipelines - imblearn\n",
    "from imblearn.pipeline import make_pipeline as imbl_pipe\n",
    "\n",
    "# Over-sampling using SMOTE\n",
    "from imblearn.over_sampling import SMOTE\n",
    "\n",
    "# SciKeras\n",
    "from scikeras.wrappers import KerasClassifier"
   ]
  },
  {
   "cell_type": "markdown",
   "metadata": {},
   "source": [
    "## Load Analytical Base Table"
   ]
  },
  {
   "cell_type": "code",
   "execution_count": 55,
   "metadata": {
    "execution": {
     "iopub.execute_input": "2022-11-28T00:34:18.434436Z",
     "iopub.status.busy": "2022-11-28T00:34:18.434436Z",
     "iopub.status.idle": "2022-11-28T00:34:18.480487Z",
     "shell.execute_reply": "2022-11-28T00:34:18.479488Z",
     "shell.execute_reply.started": "2022-11-28T00:34:18.434436Z"
    },
    "scrolled": true,
    "tags": []
   },
   "outputs": [
    {
     "name": "stdout",
     "output_type": "stream",
     "text": [
      "Dataframe dimensions: (10000, 11)\n"
     ]
    },
    {
     "data": {
      "text/html": [
       "<div>\n",
       "<style scoped>\n",
       "    .dataframe tbody tr th:only-of-type {\n",
       "        vertical-align: middle;\n",
       "    }\n",
       "\n",
       "    .dataframe tbody tr th {\n",
       "        vertical-align: top;\n",
       "    }\n",
       "\n",
       "    .dataframe thead th {\n",
       "        text-align: right;\n",
       "    }\n",
       "</style>\n",
       "<table border=\"1\" class=\"dataframe\">\n",
       "  <thead>\n",
       "    <tr style=\"text-align: right;\">\n",
       "      <th></th>\n",
       "      <th>CreditScore</th>\n",
       "      <th>Geography</th>\n",
       "      <th>Gender</th>\n",
       "      <th>Age</th>\n",
       "      <th>Tenure</th>\n",
       "      <th>Balance</th>\n",
       "      <th>NumOfProducts</th>\n",
       "      <th>HasCrCard</th>\n",
       "      <th>IsActiveMember</th>\n",
       "      <th>EstimatedSalary</th>\n",
       "      <th>Exited</th>\n",
       "    </tr>\n",
       "  </thead>\n",
       "  <tbody>\n",
       "    <tr>\n",
       "      <th>0</th>\n",
       "      <td>619</td>\n",
       "      <td>France</td>\n",
       "      <td>Female</td>\n",
       "      <td>42</td>\n",
       "      <td>2</td>\n",
       "      <td>0.00</td>\n",
       "      <td>1</td>\n",
       "      <td>1</td>\n",
       "      <td>1</td>\n",
       "      <td>101348.88</td>\n",
       "      <td>1</td>\n",
       "    </tr>\n",
       "    <tr>\n",
       "      <th>1</th>\n",
       "      <td>608</td>\n",
       "      <td>Spain</td>\n",
       "      <td>Female</td>\n",
       "      <td>41</td>\n",
       "      <td>1</td>\n",
       "      <td>83807.86</td>\n",
       "      <td>1</td>\n",
       "      <td>0</td>\n",
       "      <td>1</td>\n",
       "      <td>112542.58</td>\n",
       "      <td>0</td>\n",
       "    </tr>\n",
       "    <tr>\n",
       "      <th>2</th>\n",
       "      <td>502</td>\n",
       "      <td>France</td>\n",
       "      <td>Female</td>\n",
       "      <td>42</td>\n",
       "      <td>8</td>\n",
       "      <td>159660.80</td>\n",
       "      <td>3</td>\n",
       "      <td>1</td>\n",
       "      <td>0</td>\n",
       "      <td>113931.57</td>\n",
       "      <td>1</td>\n",
       "    </tr>\n",
       "    <tr>\n",
       "      <th>3</th>\n",
       "      <td>699</td>\n",
       "      <td>France</td>\n",
       "      <td>Female</td>\n",
       "      <td>39</td>\n",
       "      <td>1</td>\n",
       "      <td>0.00</td>\n",
       "      <td>2</td>\n",
       "      <td>0</td>\n",
       "      <td>0</td>\n",
       "      <td>93826.63</td>\n",
       "      <td>0</td>\n",
       "    </tr>\n",
       "    <tr>\n",
       "      <th>4</th>\n",
       "      <td>850</td>\n",
       "      <td>Spain</td>\n",
       "      <td>Female</td>\n",
       "      <td>43</td>\n",
       "      <td>2</td>\n",
       "      <td>125510.82</td>\n",
       "      <td>1</td>\n",
       "      <td>1</td>\n",
       "      <td>1</td>\n",
       "      <td>79084.10</td>\n",
       "      <td>0</td>\n",
       "    </tr>\n",
       "  </tbody>\n",
       "</table>\n",
       "</div>"
      ],
      "text/plain": [
       "   CreditScore Geography  Gender  Age  Tenure    Balance  NumOfProducts  \\\n",
       "0          619    France  Female   42       2       0.00              1   \n",
       "1          608     Spain  Female   41       1   83807.86              1   \n",
       "2          502    France  Female   42       8  159660.80              3   \n",
       "3          699    France  Female   39       1       0.00              2   \n",
       "4          850     Spain  Female   43       2  125510.82              1   \n",
       "\n",
       "   HasCrCard  IsActiveMember  EstimatedSalary  Exited  \n",
       "0          1               1        101348.88       1  \n",
       "1          0               1        112542.58       0  \n",
       "2          1               0        113931.57       1  \n",
       "3          0               0         93826.63       0  \n",
       "4          1               1         79084.10       0  "
      ]
     },
     "execution_count": 55,
     "metadata": {},
     "output_type": "execute_result"
    }
   ],
   "source": [
    "# Load the dataset\n",
    "abt = pd.read_csv(\"../Resources/analytical_base_table.csv\")\n",
    "print(f\"Dataframe dimensions: {abt.shape}\")\n",
    "abt.head()"
   ]
  },
  {
   "cell_type": "markdown",
   "metadata": {},
   "source": [
    "# Models Training"
   ]
  },
  {
   "cell_type": "markdown",
   "metadata": {},
   "source": [
    "Let's start by splitting our dataframe into separate objects:\n",
    "\n",
    "* **y** for the target varibale\n",
    "\n",
    "* **X** for the input features\n",
    "\n",
    "\n"
   ]
  },
  {
   "cell_type": "markdown",
   "metadata": {},
   "source": [
    "### Separate dataframe into separate object"
   ]
  },
  {
   "cell_type": "code",
   "execution_count": 56,
   "metadata": {
    "execution": {
     "iopub.execute_input": "2022-11-28T00:34:18.482495Z",
     "iopub.status.busy": "2022-11-28T00:34:18.481491Z",
     "iopub.status.idle": "2022-11-28T00:34:18.495011Z",
     "shell.execute_reply": "2022-11-28T00:34:18.495011Z",
     "shell.execute_reply.started": "2022-11-28T00:34:18.482495Z"
    },
    "tags": []
   },
   "outputs": [
    {
     "name": "stdout",
     "output_type": "stream",
     "text": [
      "(10000, 10) (10000,)\n"
     ]
    }
   ],
   "source": [
    "# Object for target variable\n",
    "y = abt.Exited\n",
    "\n",
    "# object for input features\n",
    "X = abt.drop(['Exited'], axis=1)\n",
    "\n",
    "# display shapes of X and y\n",
    "print(X.shape, y.shape)"
   ]
  },
  {
   "cell_type": "code",
   "execution_count": 57,
   "metadata": {
    "execution": {
     "iopub.execute_input": "2022-11-28T00:34:18.498015Z",
     "iopub.status.busy": "2022-11-28T00:34:18.497013Z",
     "iopub.status.idle": "2022-11-28T00:34:18.511012Z",
     "shell.execute_reply": "2022-11-28T00:34:18.511012Z",
     "shell.execute_reply.started": "2022-11-28T00:34:18.498015Z"
    },
    "tags": []
   },
   "outputs": [
    {
     "data": {
      "text/plain": [
       "['CreditScore',\n",
       " 'Age',\n",
       " 'Tenure',\n",
       " 'Balance',\n",
       " 'NumOfProducts',\n",
       " 'HasCrCard',\n",
       " 'IsActiveMember',\n",
       " 'EstimatedSalary']"
      ]
     },
     "execution_count": 57,
     "metadata": {},
     "output_type": "execute_result"
    }
   ],
   "source": [
    "# List numerical features\n",
    "num_columns = X.select_dtypes(include='number').columns.tolist()\n",
    "num_columns"
   ]
  },
  {
   "cell_type": "code",
   "execution_count": 58,
   "metadata": {
    "execution": {
     "iopub.execute_input": "2022-11-28T00:34:18.512009Z",
     "iopub.status.busy": "2022-11-28T00:34:18.512009Z",
     "iopub.status.idle": "2022-11-28T00:34:18.527008Z",
     "shell.execute_reply": "2022-11-28T00:34:18.527008Z",
     "shell.execute_reply.started": "2022-11-28T00:34:18.512009Z"
    },
    "tags": []
   },
   "outputs": [
    {
     "data": {
      "text/plain": [
       "['Geography', 'Gender']"
      ]
     },
     "execution_count": 58,
     "metadata": {},
     "output_type": "execute_result"
    }
   ],
   "source": [
    "# List categorical features\n",
    "cat_columns = X.select_dtypes(include='object').columns.tolist()\n",
    "cat_columns"
   ]
  },
  {
   "cell_type": "code",
   "execution_count": 59,
   "metadata": {
    "execution": {
     "iopub.execute_input": "2022-11-28T00:34:18.529014Z",
     "iopub.status.busy": "2022-11-28T00:34:18.529014Z",
     "iopub.status.idle": "2022-11-28T00:34:18.543736Z",
     "shell.execute_reply": "2022-11-28T00:34:18.542730Z",
     "shell.execute_reply.started": "2022-11-28T00:34:18.529014Z"
    },
    "tags": []
   },
   "outputs": [],
   "source": [
    "def class_count(a):\n",
    "    counter=Counter(a)\n",
    "    kv=[list(counter.keys()),list(counter.values())]\n",
    "    dff = pd.DataFrame(np.array(kv).T, columns=['Exited','Count'])\n",
    "    dff['Count'] = dff['Count'].astype('int64')\n",
    "    dff['%'] = round(dff['Count'] / a.shape[0] * 100, 2)\n",
    "    return dff.sort_values('Count',ascending=False)"
   ]
  },
  {
   "cell_type": "code",
   "execution_count": 60,
   "metadata": {
    "execution": {
     "iopub.execute_input": "2022-11-28T00:34:18.544736Z",
     "iopub.status.busy": "2022-11-28T00:34:18.544736Z",
     "iopub.status.idle": "2022-11-28T00:34:18.575777Z",
     "shell.execute_reply": "2022-11-28T00:34:18.574775Z",
     "shell.execute_reply.started": "2022-11-28T00:34:18.544736Z"
    },
    "tags": []
   },
   "outputs": [
    {
     "data": {
      "text/html": [
       "<div>\n",
       "<style scoped>\n",
       "    .dataframe tbody tr th:only-of-type {\n",
       "        vertical-align: middle;\n",
       "    }\n",
       "\n",
       "    .dataframe tbody tr th {\n",
       "        vertical-align: top;\n",
       "    }\n",
       "\n",
       "    .dataframe thead th {\n",
       "        text-align: right;\n",
       "    }\n",
       "</style>\n",
       "<table border=\"1\" class=\"dataframe\">\n",
       "  <thead>\n",
       "    <tr style=\"text-align: right;\">\n",
       "      <th></th>\n",
       "      <th>Exited</th>\n",
       "      <th>Count</th>\n",
       "      <th>%</th>\n",
       "    </tr>\n",
       "  </thead>\n",
       "  <tbody>\n",
       "    <tr>\n",
       "      <th>1</th>\n",
       "      <td>0</td>\n",
       "      <td>7963</td>\n",
       "      <td>79.63</td>\n",
       "    </tr>\n",
       "    <tr>\n",
       "      <th>0</th>\n",
       "      <td>1</td>\n",
       "      <td>2037</td>\n",
       "      <td>20.37</td>\n",
       "    </tr>\n",
       "  </tbody>\n",
       "</table>\n",
       "</div>"
      ],
      "text/plain": [
       "   Exited  Count      %\n",
       "1       0   7963  79.63\n",
       "0       1   2037  20.37"
      ]
     },
     "execution_count": 60,
     "metadata": {},
     "output_type": "execute_result"
    }
   ],
   "source": [
    "class_count(y)"
   ]
  },
  {
   "cell_type": "markdown",
   "metadata": {},
   "source": [
    "## Create a Train Test Split\n"
   ]
  },
  {
   "cell_type": "markdown",
   "metadata": {},
   "source": [
    "We will continue with splitting our data into separate training and test sets.\n",
    "\n",
    "* 30% of observations will be set aside for the test set\n",
    "\n",
    "* the rest, 70%, will be used as the training set"
   ]
  },
  {
   "cell_type": "code",
   "execution_count": 61,
   "metadata": {
    "execution": {
     "iopub.execute_input": "2022-11-28T00:34:18.576777Z",
     "iopub.status.busy": "2022-11-28T00:34:18.576777Z",
     "iopub.status.idle": "2022-11-28T00:34:18.591301Z",
     "shell.execute_reply": "2022-11-28T00:34:18.590291Z",
     "shell.execute_reply.started": "2022-11-28T00:34:18.576777Z"
    },
    "tags": []
   },
   "outputs": [
    {
     "name": "stdout",
     "output_type": "stream",
     "text": [
      "7000 3000 7000 3000\n"
     ]
    }
   ],
   "source": [
    "# Split X and y into train and test sets\n",
    "X_train, X_test, y_train, y_test = train_test_split(X, y,\n",
    "                                                    test_size=0.3,\n",
    "                                                    random_state=random_state,\n",
    "                                                    stratify=abt.Exited)\n",
    "\n",
    "# Print number of observations in X_train, X_test, y_train, and y_test\n",
    "print(len(X_train), len(X_test), len(y_train), len(y_test))"
   ]
  },
  {
   "cell_type": "code",
   "execution_count": 62,
   "metadata": {
    "execution": {
     "iopub.execute_input": "2022-11-28T00:34:18.592300Z",
     "iopub.status.busy": "2022-11-28T00:34:18.592300Z",
     "iopub.status.idle": "2022-11-28T00:34:18.606328Z",
     "shell.execute_reply": "2022-11-28T00:34:18.606328Z",
     "shell.execute_reply.started": "2022-11-28T00:34:18.592300Z"
    },
    "scrolled": true,
    "tags": []
   },
   "outputs": [
    {
     "name": "stdout",
     "output_type": "stream",
     "text": [
      "<class 'pandas.core.frame.DataFrame'>\n",
      "Index: 7000 entries, 8061 to 4741\n",
      "Data columns (total 10 columns):\n",
      " #   Column           Non-Null Count  Dtype  \n",
      "---  ------           --------------  -----  \n",
      " 0   CreditScore      7000 non-null   int64  \n",
      " 1   Geography        7000 non-null   object \n",
      " 2   Gender           7000 non-null   object \n",
      " 3   Age              7000 non-null   int64  \n",
      " 4   Tenure           7000 non-null   int64  \n",
      " 5   Balance          7000 non-null   float64\n",
      " 6   NumOfProducts    7000 non-null   int64  \n",
      " 7   HasCrCard        7000 non-null   int64  \n",
      " 8   IsActiveMember   7000 non-null   int64  \n",
      " 9   EstimatedSalary  7000 non-null   float64\n",
      "dtypes: float64(2), int64(6), object(2)\n",
      "memory usage: 601.6+ KB\n"
     ]
    }
   ],
   "source": [
    "X_train.info()"
   ]
  },
  {
   "cell_type": "code",
   "execution_count": 63,
   "metadata": {
    "execution": {
     "iopub.execute_input": "2022-11-28T00:34:18.609303Z",
     "iopub.status.busy": "2022-11-28T00:34:18.609303Z",
     "iopub.status.idle": "2022-11-28T00:34:18.623299Z",
     "shell.execute_reply": "2022-11-28T00:34:18.622330Z",
     "shell.execute_reply.started": "2022-11-28T00:34:18.609303Z"
    }
   },
   "outputs": [],
   "source": [
    "# Get a Numpy representation of the DataFrame\n",
    "X_train = X_train.values\n",
    "X_test = X_test.values"
   ]
  },
  {
   "cell_type": "markdown",
   "metadata": {},
   "source": [
    "## Pre-processing Pipeline"
   ]
  },
  {
   "cell_type": "markdown",
   "metadata": {},
   "source": [
    "### Scale numerical data and encode categorical data\n",
    "Construct a pre-processing pipeline from the given transformers: MinMaxScaler and OneHotEncoder"
   ]
  },
  {
   "cell_type": "markdown",
   "metadata": {},
   "source": [
    "Create lists of indexes from the list of column names\n",
    "\n",
    "Need to be numeric not string to specify columns name in column transformer"
   ]
  },
  {
   "cell_type": "code",
   "execution_count": 64,
   "metadata": {
    "execution": {
     "iopub.execute_input": "2022-11-28T00:34:18.624332Z",
     "iopub.status.busy": "2022-11-28T00:34:18.624332Z",
     "iopub.status.idle": "2022-11-28T00:34:18.639301Z",
     "shell.execute_reply": "2022-11-28T00:34:18.638328Z",
     "shell.execute_reply.started": "2022-11-28T00:34:18.624332Z"
    },
    "tags": []
   },
   "outputs": [
    {
     "name": "stdout",
     "output_type": "stream",
     "text": [
      "[0, 3, 4, 5, 6, 7, 8, 9]\n"
     ]
    }
   ],
   "source": [
    "num_features = [] \n",
    "\n",
    "for i in num_columns:\n",
    "    location = X.columns.get_loc(i)\n",
    "    num_features.append(location)\n",
    "print(num_features)  "
   ]
  },
  {
   "cell_type": "code",
   "execution_count": 65,
   "metadata": {
    "execution": {
     "iopub.execute_input": "2022-11-28T00:34:18.640297Z",
     "iopub.status.busy": "2022-11-28T00:34:18.639301Z",
     "iopub.status.idle": "2022-11-28T00:34:18.655303Z",
     "shell.execute_reply": "2022-11-28T00:34:18.654337Z",
     "shell.execute_reply.started": "2022-11-28T00:34:18.640297Z"
    },
    "tags": []
   },
   "outputs": [
    {
     "name": "stdout",
     "output_type": "stream",
     "text": [
      "[1, 2]\n"
     ]
    }
   ],
   "source": [
    "cat_features = []\n",
    "\n",
    "for i in cat_columns:\n",
    "    location = X.columns.get_loc(i)\n",
    "    cat_features.append(location)\n",
    "print(cat_features)  "
   ]
  },
  {
   "cell_type": "code",
   "execution_count": 66,
   "metadata": {
    "execution": {
     "iopub.execute_input": "2022-11-28T00:34:18.656303Z",
     "iopub.status.busy": "2022-11-28T00:34:18.656303Z",
     "iopub.status.idle": "2022-11-28T00:34:18.671301Z",
     "shell.execute_reply": "2022-11-28T00:34:18.670301Z",
     "shell.execute_reply.started": "2022-11-28T00:34:18.656303Z"
    },
    "tags": []
   },
   "outputs": [
    {
     "data": {
      "text/html": [
       "<style>#sk-container-id-5 {\n",
       "  /* Definition of color scheme common for light and dark mode */\n",
       "  --sklearn-color-text: black;\n",
       "  --sklearn-color-line: gray;\n",
       "  /* Definition of color scheme for unfitted estimators */\n",
       "  --sklearn-color-unfitted-level-0: #fff5e6;\n",
       "  --sklearn-color-unfitted-level-1: #f6e4d2;\n",
       "  --sklearn-color-unfitted-level-2: #ffe0b3;\n",
       "  --sklearn-color-unfitted-level-3: chocolate;\n",
       "  /* Definition of color scheme for fitted estimators */\n",
       "  --sklearn-color-fitted-level-0: #f0f8ff;\n",
       "  --sklearn-color-fitted-level-1: #d4ebff;\n",
       "  --sklearn-color-fitted-level-2: #b3dbfd;\n",
       "  --sklearn-color-fitted-level-3: cornflowerblue;\n",
       "\n",
       "  /* Specific color for light theme */\n",
       "  --sklearn-color-text-on-default-background: var(--sg-text-color, var(--theme-code-foreground, var(--jp-content-font-color1, black)));\n",
       "  --sklearn-color-background: var(--sg-background-color, var(--theme-background, var(--jp-layout-color0, white)));\n",
       "  --sklearn-color-border-box: var(--sg-text-color, var(--theme-code-foreground, var(--jp-content-font-color1, black)));\n",
       "  --sklearn-color-icon: #696969;\n",
       "\n",
       "  @media (prefers-color-scheme: dark) {\n",
       "    /* Redefinition of color scheme for dark theme */\n",
       "    --sklearn-color-text-on-default-background: var(--sg-text-color, var(--theme-code-foreground, var(--jp-content-font-color1, white)));\n",
       "    --sklearn-color-background: var(--sg-background-color, var(--theme-background, var(--jp-layout-color0, #111)));\n",
       "    --sklearn-color-border-box: var(--sg-text-color, var(--theme-code-foreground, var(--jp-content-font-color1, white)));\n",
       "    --sklearn-color-icon: #878787;\n",
       "  }\n",
       "}\n",
       "\n",
       "#sk-container-id-5 {\n",
       "  color: var(--sklearn-color-text);\n",
       "}\n",
       "\n",
       "#sk-container-id-5 pre {\n",
       "  padding: 0;\n",
       "}\n",
       "\n",
       "#sk-container-id-5 input.sk-hidden--visually {\n",
       "  border: 0;\n",
       "  clip: rect(1px 1px 1px 1px);\n",
       "  clip: rect(1px, 1px, 1px, 1px);\n",
       "  height: 1px;\n",
       "  margin: -1px;\n",
       "  overflow: hidden;\n",
       "  padding: 0;\n",
       "  position: absolute;\n",
       "  width: 1px;\n",
       "}\n",
       "\n",
       "#sk-container-id-5 div.sk-dashed-wrapped {\n",
       "  border: 1px dashed var(--sklearn-color-line);\n",
       "  margin: 0 0.4em 0.5em 0.4em;\n",
       "  box-sizing: border-box;\n",
       "  padding-bottom: 0.4em;\n",
       "  background-color: var(--sklearn-color-background);\n",
       "}\n",
       "\n",
       "#sk-container-id-5 div.sk-container {\n",
       "  /* jupyter's `normalize.less` sets `[hidden] { display: none; }`\n",
       "     but bootstrap.min.css set `[hidden] { display: none !important; }`\n",
       "     so we also need the `!important` here to be able to override the\n",
       "     default hidden behavior on the sphinx rendered scikit-learn.org.\n",
       "     See: https://github.com/scikit-learn/scikit-learn/issues/21755 */\n",
       "  display: inline-block !important;\n",
       "  position: relative;\n",
       "}\n",
       "\n",
       "#sk-container-id-5 div.sk-text-repr-fallback {\n",
       "  display: none;\n",
       "}\n",
       "\n",
       "div.sk-parallel-item,\n",
       "div.sk-serial,\n",
       "div.sk-item {\n",
       "  /* draw centered vertical line to link estimators */\n",
       "  background-image: linear-gradient(var(--sklearn-color-text-on-default-background), var(--sklearn-color-text-on-default-background));\n",
       "  background-size: 2px 100%;\n",
       "  background-repeat: no-repeat;\n",
       "  background-position: center center;\n",
       "}\n",
       "\n",
       "/* Parallel-specific style estimator block */\n",
       "\n",
       "#sk-container-id-5 div.sk-parallel-item::after {\n",
       "  content: \"\";\n",
       "  width: 100%;\n",
       "  border-bottom: 2px solid var(--sklearn-color-text-on-default-background);\n",
       "  flex-grow: 1;\n",
       "}\n",
       "\n",
       "#sk-container-id-5 div.sk-parallel {\n",
       "  display: flex;\n",
       "  align-items: stretch;\n",
       "  justify-content: center;\n",
       "  background-color: var(--sklearn-color-background);\n",
       "  position: relative;\n",
       "}\n",
       "\n",
       "#sk-container-id-5 div.sk-parallel-item {\n",
       "  display: flex;\n",
       "  flex-direction: column;\n",
       "}\n",
       "\n",
       "#sk-container-id-5 div.sk-parallel-item:first-child::after {\n",
       "  align-self: flex-end;\n",
       "  width: 50%;\n",
       "}\n",
       "\n",
       "#sk-container-id-5 div.sk-parallel-item:last-child::after {\n",
       "  align-self: flex-start;\n",
       "  width: 50%;\n",
       "}\n",
       "\n",
       "#sk-container-id-5 div.sk-parallel-item:only-child::after {\n",
       "  width: 0;\n",
       "}\n",
       "\n",
       "/* Serial-specific style estimator block */\n",
       "\n",
       "#sk-container-id-5 div.sk-serial {\n",
       "  display: flex;\n",
       "  flex-direction: column;\n",
       "  align-items: center;\n",
       "  background-color: var(--sklearn-color-background);\n",
       "  padding-right: 1em;\n",
       "  padding-left: 1em;\n",
       "}\n",
       "\n",
       "\n",
       "/* Toggleable style: style used for estimator/Pipeline/ColumnTransformer box that is\n",
       "clickable and can be expanded/collapsed.\n",
       "- Pipeline and ColumnTransformer use this feature and define the default style\n",
       "- Estimators will overwrite some part of the style using the `sk-estimator` class\n",
       "*/\n",
       "\n",
       "/* Pipeline and ColumnTransformer style (default) */\n",
       "\n",
       "#sk-container-id-5 div.sk-toggleable {\n",
       "  /* Default theme specific background. It is overwritten whether we have a\n",
       "  specific estimator or a Pipeline/ColumnTransformer */\n",
       "  background-color: var(--sklearn-color-background);\n",
       "}\n",
       "\n",
       "/* Toggleable label */\n",
       "#sk-container-id-5 label.sk-toggleable__label {\n",
       "  cursor: pointer;\n",
       "  display: block;\n",
       "  width: 100%;\n",
       "  margin-bottom: 0;\n",
       "  padding: 0.5em;\n",
       "  box-sizing: border-box;\n",
       "  text-align: center;\n",
       "}\n",
       "\n",
       "#sk-container-id-5 label.sk-toggleable__label-arrow:before {\n",
       "  /* Arrow on the left of the label */\n",
       "  content: \"▸\";\n",
       "  float: left;\n",
       "  margin-right: 0.25em;\n",
       "  color: var(--sklearn-color-icon);\n",
       "}\n",
       "\n",
       "#sk-container-id-5 label.sk-toggleable__label-arrow:hover:before {\n",
       "  color: var(--sklearn-color-text);\n",
       "}\n",
       "\n",
       "/* Toggleable content - dropdown */\n",
       "\n",
       "#sk-container-id-5 div.sk-toggleable__content {\n",
       "  max-height: 0;\n",
       "  max-width: 0;\n",
       "  overflow: hidden;\n",
       "  text-align: left;\n",
       "  /* unfitted */\n",
       "  background-color: var(--sklearn-color-unfitted-level-0);\n",
       "}\n",
       "\n",
       "#sk-container-id-5 div.sk-toggleable__content.fitted {\n",
       "  /* fitted */\n",
       "  background-color: var(--sklearn-color-fitted-level-0);\n",
       "}\n",
       "\n",
       "#sk-container-id-5 div.sk-toggleable__content pre {\n",
       "  margin: 0.2em;\n",
       "  border-radius: 0.25em;\n",
       "  color: var(--sklearn-color-text);\n",
       "  /* unfitted */\n",
       "  background-color: var(--sklearn-color-unfitted-level-0);\n",
       "}\n",
       "\n",
       "#sk-container-id-5 div.sk-toggleable__content.fitted pre {\n",
       "  /* unfitted */\n",
       "  background-color: var(--sklearn-color-fitted-level-0);\n",
       "}\n",
       "\n",
       "#sk-container-id-5 input.sk-toggleable__control:checked~div.sk-toggleable__content {\n",
       "  /* Expand drop-down */\n",
       "  max-height: 200px;\n",
       "  max-width: 100%;\n",
       "  overflow: auto;\n",
       "}\n",
       "\n",
       "#sk-container-id-5 input.sk-toggleable__control:checked~label.sk-toggleable__label-arrow:before {\n",
       "  content: \"▾\";\n",
       "}\n",
       "\n",
       "/* Pipeline/ColumnTransformer-specific style */\n",
       "\n",
       "#sk-container-id-5 div.sk-label input.sk-toggleable__control:checked~label.sk-toggleable__label {\n",
       "  color: var(--sklearn-color-text);\n",
       "  background-color: var(--sklearn-color-unfitted-level-2);\n",
       "}\n",
       "\n",
       "#sk-container-id-5 div.sk-label.fitted input.sk-toggleable__control:checked~label.sk-toggleable__label {\n",
       "  background-color: var(--sklearn-color-fitted-level-2);\n",
       "}\n",
       "\n",
       "/* Estimator-specific style */\n",
       "\n",
       "/* Colorize estimator box */\n",
       "#sk-container-id-5 div.sk-estimator input.sk-toggleable__control:checked~label.sk-toggleable__label {\n",
       "  /* unfitted */\n",
       "  background-color: var(--sklearn-color-unfitted-level-2);\n",
       "}\n",
       "\n",
       "#sk-container-id-5 div.sk-estimator.fitted input.sk-toggleable__control:checked~label.sk-toggleable__label {\n",
       "  /* fitted */\n",
       "  background-color: var(--sklearn-color-fitted-level-2);\n",
       "}\n",
       "\n",
       "#sk-container-id-5 div.sk-label label.sk-toggleable__label,\n",
       "#sk-container-id-5 div.sk-label label {\n",
       "  /* The background is the default theme color */\n",
       "  color: var(--sklearn-color-text-on-default-background);\n",
       "}\n",
       "\n",
       "/* On hover, darken the color of the background */\n",
       "#sk-container-id-5 div.sk-label:hover label.sk-toggleable__label {\n",
       "  color: var(--sklearn-color-text);\n",
       "  background-color: var(--sklearn-color-unfitted-level-2);\n",
       "}\n",
       "\n",
       "/* Label box, darken color on hover, fitted */\n",
       "#sk-container-id-5 div.sk-label.fitted:hover label.sk-toggleable__label.fitted {\n",
       "  color: var(--sklearn-color-text);\n",
       "  background-color: var(--sklearn-color-fitted-level-2);\n",
       "}\n",
       "\n",
       "/* Estimator label */\n",
       "\n",
       "#sk-container-id-5 div.sk-label label {\n",
       "  font-family: monospace;\n",
       "  font-weight: bold;\n",
       "  display: inline-block;\n",
       "  line-height: 1.2em;\n",
       "}\n",
       "\n",
       "#sk-container-id-5 div.sk-label-container {\n",
       "  text-align: center;\n",
       "}\n",
       "\n",
       "/* Estimator-specific */\n",
       "#sk-container-id-5 div.sk-estimator {\n",
       "  font-family: monospace;\n",
       "  border: 1px dotted var(--sklearn-color-border-box);\n",
       "  border-radius: 0.25em;\n",
       "  box-sizing: border-box;\n",
       "  margin-bottom: 0.5em;\n",
       "  /* unfitted */\n",
       "  background-color: var(--sklearn-color-unfitted-level-0);\n",
       "}\n",
       "\n",
       "#sk-container-id-5 div.sk-estimator.fitted {\n",
       "  /* fitted */\n",
       "  background-color: var(--sklearn-color-fitted-level-0);\n",
       "}\n",
       "\n",
       "/* on hover */\n",
       "#sk-container-id-5 div.sk-estimator:hover {\n",
       "  /* unfitted */\n",
       "  background-color: var(--sklearn-color-unfitted-level-2);\n",
       "}\n",
       "\n",
       "#sk-container-id-5 div.sk-estimator.fitted:hover {\n",
       "  /* fitted */\n",
       "  background-color: var(--sklearn-color-fitted-level-2);\n",
       "}\n",
       "\n",
       "/* Specification for estimator info (e.g. \"i\" and \"?\") */\n",
       "\n",
       "/* Common style for \"i\" and \"?\" */\n",
       "\n",
       ".sk-estimator-doc-link,\n",
       "a:link.sk-estimator-doc-link,\n",
       "a:visited.sk-estimator-doc-link {\n",
       "  float: right;\n",
       "  font-size: smaller;\n",
       "  line-height: 1em;\n",
       "  font-family: monospace;\n",
       "  background-color: var(--sklearn-color-background);\n",
       "  border-radius: 1em;\n",
       "  height: 1em;\n",
       "  width: 1em;\n",
       "  text-decoration: none !important;\n",
       "  margin-left: 1ex;\n",
       "  /* unfitted */\n",
       "  border: var(--sklearn-color-unfitted-level-1) 1pt solid;\n",
       "  color: var(--sklearn-color-unfitted-level-1);\n",
       "}\n",
       "\n",
       ".sk-estimator-doc-link.fitted,\n",
       "a:link.sk-estimator-doc-link.fitted,\n",
       "a:visited.sk-estimator-doc-link.fitted {\n",
       "  /* fitted */\n",
       "  border: var(--sklearn-color-fitted-level-1) 1pt solid;\n",
       "  color: var(--sklearn-color-fitted-level-1);\n",
       "}\n",
       "\n",
       "/* On hover */\n",
       "div.sk-estimator:hover .sk-estimator-doc-link:hover,\n",
       ".sk-estimator-doc-link:hover,\n",
       "div.sk-label-container:hover .sk-estimator-doc-link:hover,\n",
       ".sk-estimator-doc-link:hover {\n",
       "  /* unfitted */\n",
       "  background-color: var(--sklearn-color-unfitted-level-3);\n",
       "  color: var(--sklearn-color-background);\n",
       "  text-decoration: none;\n",
       "}\n",
       "\n",
       "div.sk-estimator.fitted:hover .sk-estimator-doc-link.fitted:hover,\n",
       ".sk-estimator-doc-link.fitted:hover,\n",
       "div.sk-label-container:hover .sk-estimator-doc-link.fitted:hover,\n",
       ".sk-estimator-doc-link.fitted:hover {\n",
       "  /* fitted */\n",
       "  background-color: var(--sklearn-color-fitted-level-3);\n",
       "  color: var(--sklearn-color-background);\n",
       "  text-decoration: none;\n",
       "}\n",
       "\n",
       "/* Span, style for the box shown on hovering the info icon */\n",
       ".sk-estimator-doc-link span {\n",
       "  display: none;\n",
       "  z-index: 9999;\n",
       "  position: relative;\n",
       "  font-weight: normal;\n",
       "  right: .2ex;\n",
       "  padding: .5ex;\n",
       "  margin: .5ex;\n",
       "  width: min-content;\n",
       "  min-width: 20ex;\n",
       "  max-width: 50ex;\n",
       "  color: var(--sklearn-color-text);\n",
       "  box-shadow: 2pt 2pt 4pt #999;\n",
       "  /* unfitted */\n",
       "  background: var(--sklearn-color-unfitted-level-0);\n",
       "  border: .5pt solid var(--sklearn-color-unfitted-level-3);\n",
       "}\n",
       "\n",
       ".sk-estimator-doc-link.fitted span {\n",
       "  /* fitted */\n",
       "  background: var(--sklearn-color-fitted-level-0);\n",
       "  border: var(--sklearn-color-fitted-level-3);\n",
       "}\n",
       "\n",
       ".sk-estimator-doc-link:hover span {\n",
       "  display: block;\n",
       "}\n",
       "\n",
       "/* \"?\"-specific style due to the `<a>` HTML tag */\n",
       "\n",
       "#sk-container-id-5 a.estimator_doc_link {\n",
       "  float: right;\n",
       "  font-size: 1rem;\n",
       "  line-height: 1em;\n",
       "  font-family: monospace;\n",
       "  background-color: var(--sklearn-color-background);\n",
       "  border-radius: 1rem;\n",
       "  height: 1rem;\n",
       "  width: 1rem;\n",
       "  text-decoration: none;\n",
       "  /* unfitted */\n",
       "  color: var(--sklearn-color-unfitted-level-1);\n",
       "  border: var(--sklearn-color-unfitted-level-1) 1pt solid;\n",
       "}\n",
       "\n",
       "#sk-container-id-5 a.estimator_doc_link.fitted {\n",
       "  /* fitted */\n",
       "  border: var(--sklearn-color-fitted-level-1) 1pt solid;\n",
       "  color: var(--sklearn-color-fitted-level-1);\n",
       "}\n",
       "\n",
       "/* On hover */\n",
       "#sk-container-id-5 a.estimator_doc_link:hover {\n",
       "  /* unfitted */\n",
       "  background-color: var(--sklearn-color-unfitted-level-3);\n",
       "  color: var(--sklearn-color-background);\n",
       "  text-decoration: none;\n",
       "}\n",
       "\n",
       "#sk-container-id-5 a.estimator_doc_link.fitted:hover {\n",
       "  /* fitted */\n",
       "  background-color: var(--sklearn-color-fitted-level-3);\n",
       "}\n",
       "</style><div id=\"sk-container-id-5\" class=\"sk-top-container\"><div class=\"sk-text-repr-fallback\"><pre>ColumnTransformer(transformers=[(&#x27;minmaxscaler&#x27;, MinMaxScaler(),\n",
       "                                 [0, 3, 4, 5, 6, 7, 8, 9]),\n",
       "                                (&#x27;onehotencoder&#x27;,\n",
       "                                 OneHotEncoder(use_cat_names=True), [1, 2])])</pre><b>In a Jupyter environment, please rerun this cell to show the HTML representation or trust the notebook. <br />On GitHub, the HTML representation is unable to render, please try loading this page with nbviewer.org.</b></div><div class=\"sk-container\" hidden><div class=\"sk-item sk-dashed-wrapped\"><div class=\"sk-label-container\"><div class=\"sk-label  sk-toggleable\"><input class=\"sk-toggleable__control sk-hidden--visually\" id=\"sk-estimator-id-27\" type=\"checkbox\" ><label for=\"sk-estimator-id-27\" class=\"sk-toggleable__label  sk-toggleable__label-arrow \">&nbsp;&nbsp;ColumnTransformer<a class=\"sk-estimator-doc-link \" rel=\"noreferrer\" target=\"_blank\" href=\"https://scikit-learn.org/1.4/modules/generated/sklearn.compose.ColumnTransformer.html\">?<span>Documentation for ColumnTransformer</span></a><span class=\"sk-estimator-doc-link \">i<span>Not fitted</span></span></label><div class=\"sk-toggleable__content \"><pre>ColumnTransformer(transformers=[(&#x27;minmaxscaler&#x27;, MinMaxScaler(),\n",
       "                                 [0, 3, 4, 5, 6, 7, 8, 9]),\n",
       "                                (&#x27;onehotencoder&#x27;,\n",
       "                                 OneHotEncoder(use_cat_names=True), [1, 2])])</pre></div> </div></div><div class=\"sk-parallel\"><div class=\"sk-parallel-item\"><div class=\"sk-item\"><div class=\"sk-label-container\"><div class=\"sk-label  sk-toggleable\"><input class=\"sk-toggleable__control sk-hidden--visually\" id=\"sk-estimator-id-28\" type=\"checkbox\" ><label for=\"sk-estimator-id-28\" class=\"sk-toggleable__label  sk-toggleable__label-arrow \">minmaxscaler</label><div class=\"sk-toggleable__content \"><pre>[0, 3, 4, 5, 6, 7, 8, 9]</pre></div> </div></div><div class=\"sk-serial\"><div class=\"sk-item\"><div class=\"sk-estimator  sk-toggleable\"><input class=\"sk-toggleable__control sk-hidden--visually\" id=\"sk-estimator-id-29\" type=\"checkbox\" ><label for=\"sk-estimator-id-29\" class=\"sk-toggleable__label  sk-toggleable__label-arrow \">&nbsp;MinMaxScaler<a class=\"sk-estimator-doc-link \" rel=\"noreferrer\" target=\"_blank\" href=\"https://scikit-learn.org/1.4/modules/generated/sklearn.preprocessing.MinMaxScaler.html\">?<span>Documentation for MinMaxScaler</span></a></label><div class=\"sk-toggleable__content \"><pre>MinMaxScaler()</pre></div> </div></div></div></div></div><div class=\"sk-parallel-item\"><div class=\"sk-item\"><div class=\"sk-label-container\"><div class=\"sk-label  sk-toggleable\"><input class=\"sk-toggleable__control sk-hidden--visually\" id=\"sk-estimator-id-30\" type=\"checkbox\" ><label for=\"sk-estimator-id-30\" class=\"sk-toggleable__label  sk-toggleable__label-arrow \">onehotencoder</label><div class=\"sk-toggleable__content \"><pre>[1, 2]</pre></div> </div></div><div class=\"sk-serial\"><div class=\"sk-item\"><div class=\"sk-estimator  sk-toggleable\"><input class=\"sk-toggleable__control sk-hidden--visually\" id=\"sk-estimator-id-31\" type=\"checkbox\" ><label for=\"sk-estimator-id-31\" class=\"sk-toggleable__label  sk-toggleable__label-arrow \">OneHotEncoder</label><div class=\"sk-toggleable__content \"><pre>OneHotEncoder(use_cat_names=True)</pre></div> </div></div></div></div></div></div></div></div></div>"
      ],
      "text/plain": [
       "ColumnTransformer(transformers=[('minmaxscaler', MinMaxScaler(),\n",
       "                                 [0, 3, 4, 5, 6, 7, 8, 9]),\n",
       "                                ('onehotencoder',\n",
       "                                 OneHotEncoder(use_cat_names=True), [1, 2])])"
      ]
     },
     "execution_count": 66,
     "metadata": {},
     "output_type": "execute_result"
    }
   ],
   "source": [
    "from category_encoders import OneHotEncoder\n",
    "# Define column transformer\n",
    "# Need to be numeric not string to specify columns name \n",
    "preprocess = make_column_transformer(\n",
    "    (MinMaxScaler(), num_features),\n",
    "    (OneHotEncoder(use_cat_names=True), cat_features)\n",
    ")\n",
    "preprocess"
   ]
  },
  {
   "cell_type": "markdown",
   "metadata": {},
   "source": [
    "## Create a Deep Learning Model"
   ]
  },
  {
   "cell_type": "markdown",
   "metadata": {},
   "source": [
    "We are going to use SciKeras.  \n",
    "It makes possible to use Keras/TensorFlow with sklearn by providing a wrapper around Keras that has an Scikit-Learn interface."
   ]
  },
  {
   "cell_type": "markdown",
   "metadata": {},
   "source": [
    "#### Implement the Scikit-Learn classifier interface."
   ]
  },
  {
   "cell_type": "code",
   "execution_count": 67,
   "metadata": {
    "execution": {
     "iopub.execute_input": "2022-11-28T00:34:18.672302Z",
     "iopub.status.busy": "2022-11-28T00:34:18.672302Z",
     "iopub.status.idle": "2022-11-28T00:34:18.687347Z",
     "shell.execute_reply": "2022-11-28T00:34:18.686343Z",
     "shell.execute_reply.started": "2022-11-28T00:34:18.672302Z"
    },
    "scrolled": true,
    "tags": []
   },
   "outputs": [],
   "source": [
    "# Import model build function \"get_clf\"from the script \"keras_model.py\"\n",
    "import keras_model as km"
   ]
  },
  {
   "cell_type": "code",
   "execution_count": 68,
   "metadata": {
    "execution": {
     "iopub.execute_input": "2022-11-28T00:34:18.688309Z",
     "iopub.status.busy": "2022-11-28T00:34:18.688309Z",
     "iopub.status.idle": "2022-11-28T00:34:18.702827Z",
     "shell.execute_reply": "2022-11-28T00:34:18.701865Z",
     "shell.execute_reply.started": "2022-11-28T00:34:18.688309Z"
    },
    "tags": []
   },
   "outputs": [],
   "source": [
    "from tensorflow.keras.metrics import Accuracy, Recall\n",
    "from tensorflow.keras.losses import BinaryCrossentropy"
   ]
  },
  {
   "cell_type": "code",
   "execution_count": 69,
   "metadata": {
    "execution": {
     "iopub.execute_input": "2022-11-28T00:34:18.703826Z",
     "iopub.status.busy": "2022-11-28T00:34:18.702827Z",
     "iopub.status.idle": "2022-11-28T00:34:18.718873Z",
     "shell.execute_reply": "2022-11-28T00:34:18.717866Z",
     "shell.execute_reply.started": "2022-11-28T00:34:18.703826Z"
    },
    "tags": []
   },
   "outputs": [],
   "source": [
    "clf = KerasClassifier(\n",
    "    model=km.get_clf,\n",
    "    loss=BinaryCrossentropy,\n",
    "    metrics=[Accuracy, Recall],\n",
    "    hidden_layer_sizes=(64, 32,),\n",
    "    dropout=0.45,\n",
    "    batch_size=64,\n",
    "    optimizer='adam',\n",
    "    optimizer__learning_rate=0.0021,\n",
    "    epochs=8,\n",
    "    verbose=0,\n",
    "    random_state=random_state,  \n",
    ")"
   ]
  },
  {
   "cell_type": "markdown",
   "metadata": {},
   "source": [
    "### Build Model Pipeline with SMOTE\n",
    "\n",
    "* We are going to use the Pipeline from the imblearn package in place of scikit-learn Pipeline.\n",
    "\n",
    "* It takes care automatically to re-sample when called fit() on the pipeline, and does not re-sample test data (when called transform() or predict())."
   ]
  },
  {
   "cell_type": "code",
   "execution_count": 70,
   "metadata": {
    "execution": {
     "iopub.execute_input": "2022-11-28T00:34:18.719864Z",
     "iopub.status.busy": "2022-11-28T00:34:18.718873Z",
     "iopub.status.idle": "2022-11-28T00:34:18.734833Z",
     "shell.execute_reply": "2022-11-28T00:34:18.733828Z",
     "shell.execute_reply.started": "2022-11-28T00:34:18.719864Z"
    },
    "scrolled": true,
    "tags": []
   },
   "outputs": [
    {
     "data": {
      "text/html": [
       "<style>#sk-container-id-6 {\n",
       "  /* Definition of color scheme common for light and dark mode */\n",
       "  --sklearn-color-text: black;\n",
       "  --sklearn-color-line: gray;\n",
       "  /* Definition of color scheme for unfitted estimators */\n",
       "  --sklearn-color-unfitted-level-0: #fff5e6;\n",
       "  --sklearn-color-unfitted-level-1: #f6e4d2;\n",
       "  --sklearn-color-unfitted-level-2: #ffe0b3;\n",
       "  --sklearn-color-unfitted-level-3: chocolate;\n",
       "  /* Definition of color scheme for fitted estimators */\n",
       "  --sklearn-color-fitted-level-0: #f0f8ff;\n",
       "  --sklearn-color-fitted-level-1: #d4ebff;\n",
       "  --sklearn-color-fitted-level-2: #b3dbfd;\n",
       "  --sklearn-color-fitted-level-3: cornflowerblue;\n",
       "\n",
       "  /* Specific color for light theme */\n",
       "  --sklearn-color-text-on-default-background: var(--sg-text-color, var(--theme-code-foreground, var(--jp-content-font-color1, black)));\n",
       "  --sklearn-color-background: var(--sg-background-color, var(--theme-background, var(--jp-layout-color0, white)));\n",
       "  --sklearn-color-border-box: var(--sg-text-color, var(--theme-code-foreground, var(--jp-content-font-color1, black)));\n",
       "  --sklearn-color-icon: #696969;\n",
       "\n",
       "  @media (prefers-color-scheme: dark) {\n",
       "    /* Redefinition of color scheme for dark theme */\n",
       "    --sklearn-color-text-on-default-background: var(--sg-text-color, var(--theme-code-foreground, var(--jp-content-font-color1, white)));\n",
       "    --sklearn-color-background: var(--sg-background-color, var(--theme-background, var(--jp-layout-color0, #111)));\n",
       "    --sklearn-color-border-box: var(--sg-text-color, var(--theme-code-foreground, var(--jp-content-font-color1, white)));\n",
       "    --sklearn-color-icon: #878787;\n",
       "  }\n",
       "}\n",
       "\n",
       "#sk-container-id-6 {\n",
       "  color: var(--sklearn-color-text);\n",
       "}\n",
       "\n",
       "#sk-container-id-6 pre {\n",
       "  padding: 0;\n",
       "}\n",
       "\n",
       "#sk-container-id-6 input.sk-hidden--visually {\n",
       "  border: 0;\n",
       "  clip: rect(1px 1px 1px 1px);\n",
       "  clip: rect(1px, 1px, 1px, 1px);\n",
       "  height: 1px;\n",
       "  margin: -1px;\n",
       "  overflow: hidden;\n",
       "  padding: 0;\n",
       "  position: absolute;\n",
       "  width: 1px;\n",
       "}\n",
       "\n",
       "#sk-container-id-6 div.sk-dashed-wrapped {\n",
       "  border: 1px dashed var(--sklearn-color-line);\n",
       "  margin: 0 0.4em 0.5em 0.4em;\n",
       "  box-sizing: border-box;\n",
       "  padding-bottom: 0.4em;\n",
       "  background-color: var(--sklearn-color-background);\n",
       "}\n",
       "\n",
       "#sk-container-id-6 div.sk-container {\n",
       "  /* jupyter's `normalize.less` sets `[hidden] { display: none; }`\n",
       "     but bootstrap.min.css set `[hidden] { display: none !important; }`\n",
       "     so we also need the `!important` here to be able to override the\n",
       "     default hidden behavior on the sphinx rendered scikit-learn.org.\n",
       "     See: https://github.com/scikit-learn/scikit-learn/issues/21755 */\n",
       "  display: inline-block !important;\n",
       "  position: relative;\n",
       "}\n",
       "\n",
       "#sk-container-id-6 div.sk-text-repr-fallback {\n",
       "  display: none;\n",
       "}\n",
       "\n",
       "div.sk-parallel-item,\n",
       "div.sk-serial,\n",
       "div.sk-item {\n",
       "  /* draw centered vertical line to link estimators */\n",
       "  background-image: linear-gradient(var(--sklearn-color-text-on-default-background), var(--sklearn-color-text-on-default-background));\n",
       "  background-size: 2px 100%;\n",
       "  background-repeat: no-repeat;\n",
       "  background-position: center center;\n",
       "}\n",
       "\n",
       "/* Parallel-specific style estimator block */\n",
       "\n",
       "#sk-container-id-6 div.sk-parallel-item::after {\n",
       "  content: \"\";\n",
       "  width: 100%;\n",
       "  border-bottom: 2px solid var(--sklearn-color-text-on-default-background);\n",
       "  flex-grow: 1;\n",
       "}\n",
       "\n",
       "#sk-container-id-6 div.sk-parallel {\n",
       "  display: flex;\n",
       "  align-items: stretch;\n",
       "  justify-content: center;\n",
       "  background-color: var(--sklearn-color-background);\n",
       "  position: relative;\n",
       "}\n",
       "\n",
       "#sk-container-id-6 div.sk-parallel-item {\n",
       "  display: flex;\n",
       "  flex-direction: column;\n",
       "}\n",
       "\n",
       "#sk-container-id-6 div.sk-parallel-item:first-child::after {\n",
       "  align-self: flex-end;\n",
       "  width: 50%;\n",
       "}\n",
       "\n",
       "#sk-container-id-6 div.sk-parallel-item:last-child::after {\n",
       "  align-self: flex-start;\n",
       "  width: 50%;\n",
       "}\n",
       "\n",
       "#sk-container-id-6 div.sk-parallel-item:only-child::after {\n",
       "  width: 0;\n",
       "}\n",
       "\n",
       "/* Serial-specific style estimator block */\n",
       "\n",
       "#sk-container-id-6 div.sk-serial {\n",
       "  display: flex;\n",
       "  flex-direction: column;\n",
       "  align-items: center;\n",
       "  background-color: var(--sklearn-color-background);\n",
       "  padding-right: 1em;\n",
       "  padding-left: 1em;\n",
       "}\n",
       "\n",
       "\n",
       "/* Toggleable style: style used for estimator/Pipeline/ColumnTransformer box that is\n",
       "clickable and can be expanded/collapsed.\n",
       "- Pipeline and ColumnTransformer use this feature and define the default style\n",
       "- Estimators will overwrite some part of the style using the `sk-estimator` class\n",
       "*/\n",
       "\n",
       "/* Pipeline and ColumnTransformer style (default) */\n",
       "\n",
       "#sk-container-id-6 div.sk-toggleable {\n",
       "  /* Default theme specific background. It is overwritten whether we have a\n",
       "  specific estimator or a Pipeline/ColumnTransformer */\n",
       "  background-color: var(--sklearn-color-background);\n",
       "}\n",
       "\n",
       "/* Toggleable label */\n",
       "#sk-container-id-6 label.sk-toggleable__label {\n",
       "  cursor: pointer;\n",
       "  display: block;\n",
       "  width: 100%;\n",
       "  margin-bottom: 0;\n",
       "  padding: 0.5em;\n",
       "  box-sizing: border-box;\n",
       "  text-align: center;\n",
       "}\n",
       "\n",
       "#sk-container-id-6 label.sk-toggleable__label-arrow:before {\n",
       "  /* Arrow on the left of the label */\n",
       "  content: \"▸\";\n",
       "  float: left;\n",
       "  margin-right: 0.25em;\n",
       "  color: var(--sklearn-color-icon);\n",
       "}\n",
       "\n",
       "#sk-container-id-6 label.sk-toggleable__label-arrow:hover:before {\n",
       "  color: var(--sklearn-color-text);\n",
       "}\n",
       "\n",
       "/* Toggleable content - dropdown */\n",
       "\n",
       "#sk-container-id-6 div.sk-toggleable__content {\n",
       "  max-height: 0;\n",
       "  max-width: 0;\n",
       "  overflow: hidden;\n",
       "  text-align: left;\n",
       "  /* unfitted */\n",
       "  background-color: var(--sklearn-color-unfitted-level-0);\n",
       "}\n",
       "\n",
       "#sk-container-id-6 div.sk-toggleable__content.fitted {\n",
       "  /* fitted */\n",
       "  background-color: var(--sklearn-color-fitted-level-0);\n",
       "}\n",
       "\n",
       "#sk-container-id-6 div.sk-toggleable__content pre {\n",
       "  margin: 0.2em;\n",
       "  border-radius: 0.25em;\n",
       "  color: var(--sklearn-color-text);\n",
       "  /* unfitted */\n",
       "  background-color: var(--sklearn-color-unfitted-level-0);\n",
       "}\n",
       "\n",
       "#sk-container-id-6 div.sk-toggleable__content.fitted pre {\n",
       "  /* unfitted */\n",
       "  background-color: var(--sklearn-color-fitted-level-0);\n",
       "}\n",
       "\n",
       "#sk-container-id-6 input.sk-toggleable__control:checked~div.sk-toggleable__content {\n",
       "  /* Expand drop-down */\n",
       "  max-height: 200px;\n",
       "  max-width: 100%;\n",
       "  overflow: auto;\n",
       "}\n",
       "\n",
       "#sk-container-id-6 input.sk-toggleable__control:checked~label.sk-toggleable__label-arrow:before {\n",
       "  content: \"▾\";\n",
       "}\n",
       "\n",
       "/* Pipeline/ColumnTransformer-specific style */\n",
       "\n",
       "#sk-container-id-6 div.sk-label input.sk-toggleable__control:checked~label.sk-toggleable__label {\n",
       "  color: var(--sklearn-color-text);\n",
       "  background-color: var(--sklearn-color-unfitted-level-2);\n",
       "}\n",
       "\n",
       "#sk-container-id-6 div.sk-label.fitted input.sk-toggleable__control:checked~label.sk-toggleable__label {\n",
       "  background-color: var(--sklearn-color-fitted-level-2);\n",
       "}\n",
       "\n",
       "/* Estimator-specific style */\n",
       "\n",
       "/* Colorize estimator box */\n",
       "#sk-container-id-6 div.sk-estimator input.sk-toggleable__control:checked~label.sk-toggleable__label {\n",
       "  /* unfitted */\n",
       "  background-color: var(--sklearn-color-unfitted-level-2);\n",
       "}\n",
       "\n",
       "#sk-container-id-6 div.sk-estimator.fitted input.sk-toggleable__control:checked~label.sk-toggleable__label {\n",
       "  /* fitted */\n",
       "  background-color: var(--sklearn-color-fitted-level-2);\n",
       "}\n",
       "\n",
       "#sk-container-id-6 div.sk-label label.sk-toggleable__label,\n",
       "#sk-container-id-6 div.sk-label label {\n",
       "  /* The background is the default theme color */\n",
       "  color: var(--sklearn-color-text-on-default-background);\n",
       "}\n",
       "\n",
       "/* On hover, darken the color of the background */\n",
       "#sk-container-id-6 div.sk-label:hover label.sk-toggleable__label {\n",
       "  color: var(--sklearn-color-text);\n",
       "  background-color: var(--sklearn-color-unfitted-level-2);\n",
       "}\n",
       "\n",
       "/* Label box, darken color on hover, fitted */\n",
       "#sk-container-id-6 div.sk-label.fitted:hover label.sk-toggleable__label.fitted {\n",
       "  color: var(--sklearn-color-text);\n",
       "  background-color: var(--sklearn-color-fitted-level-2);\n",
       "}\n",
       "\n",
       "/* Estimator label */\n",
       "\n",
       "#sk-container-id-6 div.sk-label label {\n",
       "  font-family: monospace;\n",
       "  font-weight: bold;\n",
       "  display: inline-block;\n",
       "  line-height: 1.2em;\n",
       "}\n",
       "\n",
       "#sk-container-id-6 div.sk-label-container {\n",
       "  text-align: center;\n",
       "}\n",
       "\n",
       "/* Estimator-specific */\n",
       "#sk-container-id-6 div.sk-estimator {\n",
       "  font-family: monospace;\n",
       "  border: 1px dotted var(--sklearn-color-border-box);\n",
       "  border-radius: 0.25em;\n",
       "  box-sizing: border-box;\n",
       "  margin-bottom: 0.5em;\n",
       "  /* unfitted */\n",
       "  background-color: var(--sklearn-color-unfitted-level-0);\n",
       "}\n",
       "\n",
       "#sk-container-id-6 div.sk-estimator.fitted {\n",
       "  /* fitted */\n",
       "  background-color: var(--sklearn-color-fitted-level-0);\n",
       "}\n",
       "\n",
       "/* on hover */\n",
       "#sk-container-id-6 div.sk-estimator:hover {\n",
       "  /* unfitted */\n",
       "  background-color: var(--sklearn-color-unfitted-level-2);\n",
       "}\n",
       "\n",
       "#sk-container-id-6 div.sk-estimator.fitted:hover {\n",
       "  /* fitted */\n",
       "  background-color: var(--sklearn-color-fitted-level-2);\n",
       "}\n",
       "\n",
       "/* Specification for estimator info (e.g. \"i\" and \"?\") */\n",
       "\n",
       "/* Common style for \"i\" and \"?\" */\n",
       "\n",
       ".sk-estimator-doc-link,\n",
       "a:link.sk-estimator-doc-link,\n",
       "a:visited.sk-estimator-doc-link {\n",
       "  float: right;\n",
       "  font-size: smaller;\n",
       "  line-height: 1em;\n",
       "  font-family: monospace;\n",
       "  background-color: var(--sklearn-color-background);\n",
       "  border-radius: 1em;\n",
       "  height: 1em;\n",
       "  width: 1em;\n",
       "  text-decoration: none !important;\n",
       "  margin-left: 1ex;\n",
       "  /* unfitted */\n",
       "  border: var(--sklearn-color-unfitted-level-1) 1pt solid;\n",
       "  color: var(--sklearn-color-unfitted-level-1);\n",
       "}\n",
       "\n",
       ".sk-estimator-doc-link.fitted,\n",
       "a:link.sk-estimator-doc-link.fitted,\n",
       "a:visited.sk-estimator-doc-link.fitted {\n",
       "  /* fitted */\n",
       "  border: var(--sklearn-color-fitted-level-1) 1pt solid;\n",
       "  color: var(--sklearn-color-fitted-level-1);\n",
       "}\n",
       "\n",
       "/* On hover */\n",
       "div.sk-estimator:hover .sk-estimator-doc-link:hover,\n",
       ".sk-estimator-doc-link:hover,\n",
       "div.sk-label-container:hover .sk-estimator-doc-link:hover,\n",
       ".sk-estimator-doc-link:hover {\n",
       "  /* unfitted */\n",
       "  background-color: var(--sklearn-color-unfitted-level-3);\n",
       "  color: var(--sklearn-color-background);\n",
       "  text-decoration: none;\n",
       "}\n",
       "\n",
       "div.sk-estimator.fitted:hover .sk-estimator-doc-link.fitted:hover,\n",
       ".sk-estimator-doc-link.fitted:hover,\n",
       "div.sk-label-container:hover .sk-estimator-doc-link.fitted:hover,\n",
       ".sk-estimator-doc-link.fitted:hover {\n",
       "  /* fitted */\n",
       "  background-color: var(--sklearn-color-fitted-level-3);\n",
       "  color: var(--sklearn-color-background);\n",
       "  text-decoration: none;\n",
       "}\n",
       "\n",
       "/* Span, style for the box shown on hovering the info icon */\n",
       ".sk-estimator-doc-link span {\n",
       "  display: none;\n",
       "  z-index: 9999;\n",
       "  position: relative;\n",
       "  font-weight: normal;\n",
       "  right: .2ex;\n",
       "  padding: .5ex;\n",
       "  margin: .5ex;\n",
       "  width: min-content;\n",
       "  min-width: 20ex;\n",
       "  max-width: 50ex;\n",
       "  color: var(--sklearn-color-text);\n",
       "  box-shadow: 2pt 2pt 4pt #999;\n",
       "  /* unfitted */\n",
       "  background: var(--sklearn-color-unfitted-level-0);\n",
       "  border: .5pt solid var(--sklearn-color-unfitted-level-3);\n",
       "}\n",
       "\n",
       ".sk-estimator-doc-link.fitted span {\n",
       "  /* fitted */\n",
       "  background: var(--sklearn-color-fitted-level-0);\n",
       "  border: var(--sklearn-color-fitted-level-3);\n",
       "}\n",
       "\n",
       ".sk-estimator-doc-link:hover span {\n",
       "  display: block;\n",
       "}\n",
       "\n",
       "/* \"?\"-specific style due to the `<a>` HTML tag */\n",
       "\n",
       "#sk-container-id-6 a.estimator_doc_link {\n",
       "  float: right;\n",
       "  font-size: 1rem;\n",
       "  line-height: 1em;\n",
       "  font-family: monospace;\n",
       "  background-color: var(--sklearn-color-background);\n",
       "  border-radius: 1rem;\n",
       "  height: 1rem;\n",
       "  width: 1rem;\n",
       "  text-decoration: none;\n",
       "  /* unfitted */\n",
       "  color: var(--sklearn-color-unfitted-level-1);\n",
       "  border: var(--sklearn-color-unfitted-level-1) 1pt solid;\n",
       "}\n",
       "\n",
       "#sk-container-id-6 a.estimator_doc_link.fitted {\n",
       "  /* fitted */\n",
       "  border: var(--sklearn-color-fitted-level-1) 1pt solid;\n",
       "  color: var(--sklearn-color-fitted-level-1);\n",
       "}\n",
       "\n",
       "/* On hover */\n",
       "#sk-container-id-6 a.estimator_doc_link:hover {\n",
       "  /* unfitted */\n",
       "  background-color: var(--sklearn-color-unfitted-level-3);\n",
       "  color: var(--sklearn-color-background);\n",
       "  text-decoration: none;\n",
       "}\n",
       "\n",
       "#sk-container-id-6 a.estimator_doc_link.fitted:hover {\n",
       "  /* fitted */\n",
       "  background-color: var(--sklearn-color-fitted-level-3);\n",
       "}\n",
       "</style><div id=\"sk-container-id-6\" class=\"sk-top-container\"><div class=\"sk-text-repr-fallback\"><pre>Pipeline(steps=[(&#x27;columntransformer&#x27;,\n",
       "                 ColumnTransformer(transformers=[(&#x27;minmaxscaler&#x27;,\n",
       "                                                  MinMaxScaler(),\n",
       "                                                  [0, 3, 4, 5, 6, 7, 8, 9]),\n",
       "                                                 (&#x27;onehotencoder&#x27;,\n",
       "                                                  OneHotEncoder(use_cat_names=True),\n",
       "                                                  [1, 2])])),\n",
       "                (&#x27;smote&#x27;, SMOTE(random_state=10)),\n",
       "                (&#x27;kerasclassifier&#x27;,\n",
       "                 KerasClassifier(batch_size=64, dropout=0.45, epochs=8, hidden_layer_sizes=(64, 32), loss=&lt;class &#x27;keras.src.losses.losses.BinaryCrossentropy&#x27;&gt;, metrics=[&lt;class &#x27;keras.src.metrics.accuracy_metrics.Accuracy&#x27;&gt;, &lt;class &#x27;keras.src.metrics.confusion_metrics.Recall&#x27;&gt;], model=&lt;function get_clf at 0x0000019331E71870&gt;, optimizer=&#x27;adam&#x27;, optimizer__learning_rate=0.0021, random_state=10, verbose=0))])</pre><b>In a Jupyter environment, please rerun this cell to show the HTML representation or trust the notebook. <br />On GitHub, the HTML representation is unable to render, please try loading this page with nbviewer.org.</b></div><div class=\"sk-container\" hidden><div class=\"sk-item sk-dashed-wrapped\"><div class=\"sk-label-container\"><div class=\"sk-label  sk-toggleable\"><input class=\"sk-toggleable__control sk-hidden--visually\" id=\"sk-estimator-id-32\" type=\"checkbox\" ><label for=\"sk-estimator-id-32\" class=\"sk-toggleable__label  sk-toggleable__label-arrow \">&nbsp;Pipeline<span class=\"sk-estimator-doc-link \">i<span>Not fitted</span></span></label><div class=\"sk-toggleable__content \"><pre>Pipeline(steps=[(&#x27;columntransformer&#x27;,\n",
       "                 ColumnTransformer(transformers=[(&#x27;minmaxscaler&#x27;,\n",
       "                                                  MinMaxScaler(),\n",
       "                                                  [0, 3, 4, 5, 6, 7, 8, 9]),\n",
       "                                                 (&#x27;onehotencoder&#x27;,\n",
       "                                                  OneHotEncoder(use_cat_names=True),\n",
       "                                                  [1, 2])])),\n",
       "                (&#x27;smote&#x27;, SMOTE(random_state=10)),\n",
       "                (&#x27;kerasclassifier&#x27;,\n",
       "                 KerasClassifier(batch_size=64, dropout=0.45, epochs=8, hidden_layer_sizes=(64, 32), loss=&lt;class &#x27;keras.src.losses.losses.BinaryCrossentropy&#x27;&gt;, metrics=[&lt;class &#x27;keras.src.metrics.accuracy_metrics.Accuracy&#x27;&gt;, &lt;class &#x27;keras.src.metrics.confusion_metrics.Recall&#x27;&gt;], model=&lt;function get_clf at 0x0000019331E71870&gt;, optimizer=&#x27;adam&#x27;, optimizer__learning_rate=0.0021, random_state=10, verbose=0))])</pre></div> </div></div><div class=\"sk-serial\"><div class=\"sk-item sk-dashed-wrapped\"><div class=\"sk-label-container\"><div class=\"sk-label  sk-toggleable\"><input class=\"sk-toggleable__control sk-hidden--visually\" id=\"sk-estimator-id-33\" type=\"checkbox\" ><label for=\"sk-estimator-id-33\" class=\"sk-toggleable__label  sk-toggleable__label-arrow \">&nbsp;columntransformer: ColumnTransformer<a class=\"sk-estimator-doc-link \" rel=\"noreferrer\" target=\"_blank\" href=\"https://scikit-learn.org/1.4/modules/generated/sklearn.compose.ColumnTransformer.html\">?<span>Documentation for columntransformer: ColumnTransformer</span></a></label><div class=\"sk-toggleable__content \"><pre>ColumnTransformer(transformers=[(&#x27;minmaxscaler&#x27;, MinMaxScaler(),\n",
       "                                 [0, 3, 4, 5, 6, 7, 8, 9]),\n",
       "                                (&#x27;onehotencoder&#x27;,\n",
       "                                 OneHotEncoder(use_cat_names=True), [1, 2])])</pre></div> </div></div><div class=\"sk-parallel\"><div class=\"sk-parallel-item\"><div class=\"sk-item\"><div class=\"sk-label-container\"><div class=\"sk-label  sk-toggleable\"><input class=\"sk-toggleable__control sk-hidden--visually\" id=\"sk-estimator-id-34\" type=\"checkbox\" ><label for=\"sk-estimator-id-34\" class=\"sk-toggleable__label  sk-toggleable__label-arrow \">minmaxscaler</label><div class=\"sk-toggleable__content \"><pre>[0, 3, 4, 5, 6, 7, 8, 9]</pre></div> </div></div><div class=\"sk-serial\"><div class=\"sk-item\"><div class=\"sk-estimator  sk-toggleable\"><input class=\"sk-toggleable__control sk-hidden--visually\" id=\"sk-estimator-id-35\" type=\"checkbox\" ><label for=\"sk-estimator-id-35\" class=\"sk-toggleable__label  sk-toggleable__label-arrow \">&nbsp;MinMaxScaler<a class=\"sk-estimator-doc-link \" rel=\"noreferrer\" target=\"_blank\" href=\"https://scikit-learn.org/1.4/modules/generated/sklearn.preprocessing.MinMaxScaler.html\">?<span>Documentation for MinMaxScaler</span></a></label><div class=\"sk-toggleable__content \"><pre>MinMaxScaler()</pre></div> </div></div></div></div></div><div class=\"sk-parallel-item\"><div class=\"sk-item\"><div class=\"sk-label-container\"><div class=\"sk-label  sk-toggleable\"><input class=\"sk-toggleable__control sk-hidden--visually\" id=\"sk-estimator-id-36\" type=\"checkbox\" ><label for=\"sk-estimator-id-36\" class=\"sk-toggleable__label  sk-toggleable__label-arrow \">onehotencoder</label><div class=\"sk-toggleable__content \"><pre>[1, 2]</pre></div> </div></div><div class=\"sk-serial\"><div class=\"sk-item\"><div class=\"sk-estimator  sk-toggleable\"><input class=\"sk-toggleable__control sk-hidden--visually\" id=\"sk-estimator-id-37\" type=\"checkbox\" ><label for=\"sk-estimator-id-37\" class=\"sk-toggleable__label  sk-toggleable__label-arrow \">OneHotEncoder</label><div class=\"sk-toggleable__content \"><pre>OneHotEncoder(use_cat_names=True)</pre></div> </div></div></div></div></div></div></div><div class=\"sk-item\"><div class=\"sk-estimator  sk-toggleable\"><input class=\"sk-toggleable__control sk-hidden--visually\" id=\"sk-estimator-id-38\" type=\"checkbox\" ><label for=\"sk-estimator-id-38\" class=\"sk-toggleable__label  sk-toggleable__label-arrow \">SMOTE</label><div class=\"sk-toggleable__content \"><pre>SMOTE(random_state=10)</pre></div> </div></div><div class=\"sk-item\"><div class=\"sk-estimator  sk-toggleable\"><input class=\"sk-toggleable__control sk-hidden--visually\" id=\"sk-estimator-id-39\" type=\"checkbox\" ><label for=\"sk-estimator-id-39\" class=\"sk-toggleable__label  sk-toggleable__label-arrow \">KerasClassifier</label><div class=\"sk-toggleable__content \"><pre>KerasClassifier(\n",
       "\tmodel=&lt;function get_clf at 0x0000019331E71870&gt;\n",
       "\tbuild_fn=None\n",
       "\twarm_start=False\n",
       "\trandom_state=10\n",
       "\toptimizer=adam\n",
       "\tloss=&lt;class &#x27;keras.src.losses.losses.BinaryCrossentropy&#x27;&gt;\n",
       "\tmetrics=[&lt;class &#x27;keras.src.metrics.accuracy_metrics.Accuracy&#x27;&gt;, &lt;class &#x27;keras.src.metrics.confusion_metrics.Recall&#x27;&gt;]\n",
       "\tbatch_size=64\n",
       "\tvalidation_batch_size=None\n",
       "\tverbose=0\n",
       "\tcallbacks=None\n",
       "\tvalidation_split=0.0\n",
       "\tshuffle=True\n",
       "\trun_eagerly=False\n",
       "\tepochs=8\n",
       "\thidden_layer_sizes=(64, 32)\n",
       "\tdropout=0.45\n",
       "\toptimizer__learning_rate=0.0021\n",
       "\tclass_weight=None\n",
       ")</pre></div> </div></div></div></div></div></div>"
      ],
      "text/plain": [
       "Pipeline(steps=[('columntransformer',\n",
       "                 ColumnTransformer(transformers=[('minmaxscaler',\n",
       "                                                  MinMaxScaler(),\n",
       "                                                  [0, 3, 4, 5, 6, 7, 8, 9]),\n",
       "                                                 ('onehotencoder',\n",
       "                                                  OneHotEncoder(use_cat_names=True),\n",
       "                                                  [1, 2])])),\n",
       "                ('smote', SMOTE(random_state=10)),\n",
       "                ('kerasclassifier',\n",
       "                 KerasClassifier(batch_size=64, dropout=0.45, epochs=8, hidden_layer_sizes=(64, 32), loss=<class 'keras.src.losses.losses.BinaryCrossentropy'>, metrics=[<class 'keras.src.metrics.accuracy_metrics.Accuracy'>, <class 'keras.src.metrics.confusion_metrics.Recall'>], model=<function get_clf at 0x0000019331E71870>, optimizer='adam', optimizer__learning_rate=0.0021, random_state=10, verbose=0))])"
      ]
     },
     "execution_count": 70,
     "metadata": {},
     "output_type": "execute_result"
    }
   ],
   "source": [
    "# Define model with pipeline\n",
    "pipe = imbl_pipe(preprocess,\n",
    "                  SMOTE(sampling_strategy='auto', random_state=random_state),\n",
    "                  clf)\n",
    "pipe"
   ]
  },
  {
   "cell_type": "code",
   "execution_count": 71,
   "metadata": {
    "execution": {
     "iopub.execute_input": "2022-11-28T00:34:18.735835Z",
     "iopub.status.busy": "2022-11-28T00:34:18.735835Z",
     "iopub.status.idle": "2022-11-28T00:34:27.158671Z",
     "shell.execute_reply": "2022-11-28T00:34:27.157671Z",
     "shell.execute_reply.started": "2022-11-28T00:34:18.735835Z"
    },
    "tags": []
   },
   "outputs": [],
   "source": [
    "clf = KerasClassifier(\n",
    "    model=km.get_clf,\n",
    "    loss='binary_crossentropy',\n",
    "    metrics=[Accuracy, Recall],\n",
    "    hidden_layer_sizes=(64, 32,),\n",
    "    dropout=0.45,\n",
    "    batch_size=64,\n",
    "    optimizer='adam',\n",
    "    optimizer__learning_rate=0.0021,\n",
    "    epochs=8,\n",
    "    verbose=0,\n",
    "    random_state=random_state,  \n",
    ")\n"
   ]
  },
  {
   "cell_type": "code",
   "execution_count": 72,
   "metadata": {
    "execution": {
     "iopub.execute_input": "2022-11-28T00:34:27.159673Z",
     "iopub.status.busy": "2022-11-28T00:34:27.159673Z",
     "iopub.status.idle": "2022-11-28T00:34:27.190718Z",
     "shell.execute_reply": "2022-11-28T00:34:27.189677Z",
     "shell.execute_reply.started": "2022-11-28T00:34:27.159673Z"
    },
    "scrolled": true,
    "tags": []
   },
   "outputs": [
    {
     "data": {
      "text/plain": [
       "{'memory': None,\n",
       " 'steps': [('columntransformer',\n",
       "   ColumnTransformer(transformers=[('minmaxscaler', MinMaxScaler(),\n",
       "                                    [0, 3, 4, 5, 6, 7, 8, 9]),\n",
       "                                   ('onehotencoder',\n",
       "                                    OneHotEncoder(use_cat_names=True), [1, 2])])),\n",
       "  ('smote', SMOTE(random_state=10)),\n",
       "  ('kerasclassifier',\n",
       "   KerasClassifier(\n",
       "   \tmodel=<function get_clf at 0x0000019331E71870>\n",
       "   \tbuild_fn=None\n",
       "   \twarm_start=False\n",
       "   \trandom_state=10\n",
       "   \toptimizer=adam\n",
       "   \tloss=<class 'keras.src.losses.losses.BinaryCrossentropy'>\n",
       "   \tmetrics=[<class 'keras.src.metrics.accuracy_metrics.Accuracy'>, <class 'keras.src.metrics.confusion_metrics.Recall'>]\n",
       "   \tbatch_size=64\n",
       "   \tvalidation_batch_size=None\n",
       "   \tverbose=0\n",
       "   \tcallbacks=None\n",
       "   \tvalidation_split=0.0\n",
       "   \tshuffle=True\n",
       "   \trun_eagerly=False\n",
       "   \tepochs=8\n",
       "   \thidden_layer_sizes=(64, 32)\n",
       "   \tdropout=0.45\n",
       "   \toptimizer__learning_rate=0.0021\n",
       "   \tclass_weight=None\n",
       "   ))],\n",
       " 'verbose': False,\n",
       " 'columntransformer': ColumnTransformer(transformers=[('minmaxscaler', MinMaxScaler(),\n",
       "                                  [0, 3, 4, 5, 6, 7, 8, 9]),\n",
       "                                 ('onehotencoder',\n",
       "                                  OneHotEncoder(use_cat_names=True), [1, 2])]),\n",
       " 'smote': SMOTE(random_state=10),\n",
       " 'kerasclassifier': KerasClassifier(\n",
       " \tmodel=<function get_clf at 0x0000019331E71870>\n",
       " \tbuild_fn=None\n",
       " \twarm_start=False\n",
       " \trandom_state=10\n",
       " \toptimizer=adam\n",
       " \tloss=<class 'keras.src.losses.losses.BinaryCrossentropy'>\n",
       " \tmetrics=[<class 'keras.src.metrics.accuracy_metrics.Accuracy'>, <class 'keras.src.metrics.confusion_metrics.Recall'>]\n",
       " \tbatch_size=64\n",
       " \tvalidation_batch_size=None\n",
       " \tverbose=0\n",
       " \tcallbacks=None\n",
       " \tvalidation_split=0.0\n",
       " \tshuffle=True\n",
       " \trun_eagerly=False\n",
       " \tepochs=8\n",
       " \thidden_layer_sizes=(64, 32)\n",
       " \tdropout=0.45\n",
       " \toptimizer__learning_rate=0.0021\n",
       " \tclass_weight=None\n",
       " ),\n",
       " 'columntransformer__n_jobs': None,\n",
       " 'columntransformer__remainder': 'drop',\n",
       " 'columntransformer__sparse_threshold': 0.3,\n",
       " 'columntransformer__transformer_weights': None,\n",
       " 'columntransformer__transformers': [('minmaxscaler',\n",
       "   MinMaxScaler(),\n",
       "   [0, 3, 4, 5, 6, 7, 8, 9]),\n",
       "  ('onehotencoder', OneHotEncoder(use_cat_names=True), [1, 2])],\n",
       " 'columntransformer__verbose': False,\n",
       " 'columntransformer__verbose_feature_names_out': True,\n",
       " 'columntransformer__minmaxscaler': MinMaxScaler(),\n",
       " 'columntransformer__onehotencoder': OneHotEncoder(use_cat_names=True),\n",
       " 'columntransformer__minmaxscaler__clip': False,\n",
       " 'columntransformer__minmaxscaler__copy': True,\n",
       " 'columntransformer__minmaxscaler__feature_range': (0, 1),\n",
       " 'columntransformer__onehotencoder__cols': None,\n",
       " 'columntransformer__onehotencoder__drop_invariant': False,\n",
       " 'columntransformer__onehotencoder__handle_missing': 'value',\n",
       " 'columntransformer__onehotencoder__handle_unknown': 'value',\n",
       " 'columntransformer__onehotencoder__return_df': True,\n",
       " 'columntransformer__onehotencoder__use_cat_names': True,\n",
       " 'columntransformer__onehotencoder__verbose': 0,\n",
       " 'smote__k_neighbors': 5,\n",
       " 'smote__n_jobs': None,\n",
       " 'smote__random_state': 10,\n",
       " 'smote__sampling_strategy': 'auto',\n",
       " 'kerasclassifier__model': <function keras_model.get_clf(meta, hidden_layer_sizes, dropout)>,\n",
       " 'kerasclassifier__build_fn': None,\n",
       " 'kerasclassifier__warm_start': False,\n",
       " 'kerasclassifier__random_state': 10,\n",
       " 'kerasclassifier__optimizer': 'adam',\n",
       " 'kerasclassifier__loss': keras.src.losses.losses.BinaryCrossentropy,\n",
       " 'kerasclassifier__metrics': [keras.src.metrics.accuracy_metrics.Accuracy,\n",
       "  keras.src.metrics.confusion_metrics.Recall],\n",
       " 'kerasclassifier__batch_size': 64,\n",
       " 'kerasclassifier__validation_batch_size': None,\n",
       " 'kerasclassifier__verbose': 0,\n",
       " 'kerasclassifier__callbacks': None,\n",
       " 'kerasclassifier__validation_split': 0.0,\n",
       " 'kerasclassifier__shuffle': True,\n",
       " 'kerasclassifier__run_eagerly': False,\n",
       " 'kerasclassifier__epochs': 8,\n",
       " 'kerasclassifier__hidden_layer_sizes': (64, 32),\n",
       " 'kerasclassifier__dropout': 0.45,\n",
       " 'kerasclassifier__optimizer__learning_rate': 0.0021,\n",
       " 'kerasclassifier__class_weight': None}"
      ]
     },
     "execution_count": 72,
     "metadata": {},
     "output_type": "execute_result"
    }
   ],
   "source": [
    "pipe.get_params()"
   ]
  },
  {
   "cell_type": "markdown",
   "metadata": {},
   "source": [
    "## Hyperparameter Tuning"
   ]
  },
  {
   "cell_type": "markdown",
   "metadata": {
    "tags": []
   },
   "source": [
    "For hyperparameter tuning we will use sklearn's RandomizedSearch.\n",
    "\n",
    " - First we will define the search space.  \n",
    "- This is a dictionary where names are arguments to the model and values are distributions from which to draw samples. \n",
    "- To optimize some hyperparameters we will use scipy distributions for random sampling.\n"
   ]
  },
  {
   "cell_type": "code",
   "execution_count": 73,
   "metadata": {
    "execution": {
     "iopub.execute_input": "2022-11-28T00:34:27.191680Z",
     "iopub.status.busy": "2022-11-28T00:34:27.191680Z",
     "iopub.status.idle": "2022-11-28T00:34:27.206241Z",
     "shell.execute_reply": "2022-11-28T00:34:27.205239Z",
     "shell.execute_reply.started": "2022-11-28T00:34:27.191680Z"
    },
    "tags": []
   },
   "outputs": [],
   "source": [
    "# Distributions for random sampling\n",
    "from scipy.stats import uniform as sp_randFloat\n",
    "from scipy.stats import randint as sp_randInt"
   ]
  },
  {
   "cell_type": "code",
   "execution_count": 74,
   "metadata": {
    "execution": {
     "iopub.execute_input": "2022-11-28T00:34:27.207240Z",
     "iopub.status.busy": "2022-11-28T00:34:27.206241Z",
     "iopub.status.idle": "2022-11-28T00:34:27.221274Z",
     "shell.execute_reply": "2022-11-28T00:34:27.220242Z",
     "shell.execute_reply.started": "2022-11-28T00:34:27.207240Z"
    },
    "tags": []
   },
   "outputs": [],
   "source": [
    "# Define search space\n",
    "param_space = {\n",
    "    'kerasclassifier__epochs': sp_randInt(8,12),\n",
    "    'kerasclassifier__batch_size': [64, 128],\n",
    "    'kerasclassifier__dropout': sp_randFloat(loc=0.4, scale=0.1),\n",
    "    'kerasclassifier__hidden_layer_sizes': [(64,), (64, 32,)],\n",
    "    'kerasclassifier__optimizer__learning_rate': sp_randFloat(loc=0.0015, scale=0.001)\n",
    "}"
   ]
  },
  {
   "cell_type": "code",
   "execution_count": 78,
   "metadata": {
    "execution": {
     "iopub.execute_input": "2022-11-28T04:50:04.852028Z",
     "iopub.status.busy": "2022-11-28T04:50:04.852028Z",
     "iopub.status.idle": "2022-11-28T04:50:04.865335Z",
     "shell.execute_reply": "2022-11-28T04:50:04.864314Z",
     "shell.execute_reply.started": "2022-11-28T04:50:04.852028Z"
    },
    "tags": []
   },
   "outputs": [],
   "source": [
    "# Use stratified cross-validation\n",
    "skf = StratifiedKFold(n_splits=5, shuffle=True, random_state=random_state)\n",
    "\n",
    "# Create the RandomizedSearchCV model \n",
    "rsearch = RandomizedSearchCV(pipe, \n",
    "                            param_space, \n",
    "                            n_iter=150, \n",
    "                            scoring='f1_weighted', \n",
    "                            n_jobs=4, \n",
    "                            cv=skf,\n",
    "                            random_state=random_state)\n"
   ]
  },
  {
   "cell_type": "code",
   "execution_count": 79,
   "metadata": {},
   "outputs": [
    {
     "ename": "ValueError",
     "evalue": "\nAll the 750 fits failed.\nIt is very likely that your model is misconfigured.\nYou can try to debug the error by setting error_score='raise'.\n\nBelow are more details about the failures:\n--------------------------------------------------------------------------------\n750 fits failed with the following error:\nTraceback (most recent call last):\n  File \"s:\\projects\\vlu\\Số hóa và Quản lý thông tin số\\example_project\\Bank-Churn-Prediction\\myvenv\\lib\\site-packages\\sklearn\\model_selection\\_validation.py\", line 895, in _fit_and_score\n    estimator.fit(X_train, y_train, **fit_params)\n  File \"s:\\projects\\vlu\\Số hóa và Quản lý thông tin số\\example_project\\Bank-Churn-Prediction\\myvenv\\lib\\site-packages\\sklearn\\base.py\", line 1474, in wrapper\n    return fit_method(estimator, *args, **kwargs)\n  File \"s:\\projects\\vlu\\Số hóa và Quản lý thông tin số\\example_project\\Bank-Churn-Prediction\\myvenv\\lib\\site-packages\\imblearn\\pipeline.py\", line 326, in fit\n    self._final_estimator.fit(Xt, yt, **last_step_params[\"fit\"])\n  File \"s:\\projects\\vlu\\Số hóa và Quản lý thông tin số\\example_project\\Bank-Churn-Prediction\\myvenv\\lib\\site-packages\\scikeras\\wrappers.py\", line 1491, in fit\n    super().fit(X=X, y=y, sample_weight=sample_weight, **kwargs)\n  File \"s:\\projects\\vlu\\Số hóa và Quản lý thông tin số\\example_project\\Bank-Churn-Prediction\\myvenv\\lib\\site-packages\\scikeras\\wrappers.py\", line 760, in fit\n    self._fit(\n  File \"s:\\projects\\vlu\\Số hóa và Quản lý thông tin số\\example_project\\Bank-Churn-Prediction\\myvenv\\lib\\site-packages\\scikeras\\wrappers.py\", line 928, in _fit\n    self._fit_keras_model(\n  File \"s:\\projects\\vlu\\Số hóa và Quản lý thông tin số\\example_project\\Bank-Churn-Prediction\\myvenv\\lib\\site-packages\\scikeras\\wrappers.py\", line 536, in _fit_keras_model\n    raise e\n  File \"s:\\projects\\vlu\\Số hóa và Quản lý thông tin số\\example_project\\Bank-Churn-Prediction\\myvenv\\lib\\site-packages\\scikeras\\wrappers.py\", line 531, in _fit_keras_model\n    key = metric_name(key)\n  File \"s:\\projects\\vlu\\Số hóa và Quản lý thông tin số\\example_project\\Bank-Churn-Prediction\\myvenv\\lib\\site-packages\\scikeras\\utils\\__init__.py\", line 111, in metric_name\n    fn_or_cls = keras_metric_get(metric)\n  File \"s:\\projects\\vlu\\Số hóa và Quản lý thông tin số\\example_project\\Bank-Churn-Prediction\\myvenv\\lib\\site-packages\\keras\\src\\metrics\\__init__.py\", line 204, in get\n    raise ValueError(f\"Could not interpret metric identifier: {identifier}\")\nValueError: Could not interpret metric identifier: loss\n",
     "output_type": "error",
     "traceback": [
      "\u001b[1;31m---------------------------------------------------------------------------\u001b[0m",
      "\u001b[1;31mValueError\u001b[0m                                Traceback (most recent call last)",
      "Cell \u001b[1;32mIn[79], line 2\u001b[0m\n\u001b[0;32m      1\u001b[0m \u001b[38;5;66;03m# Fit the model\u001b[39;00m\n\u001b[1;32m----> 2\u001b[0m \u001b[43mrsearch\u001b[49m\u001b[38;5;241;43m.\u001b[39;49m\u001b[43mfit\u001b[49m\u001b[43m(\u001b[49m\u001b[43mX_train\u001b[49m\u001b[43m,\u001b[49m\u001b[43m \u001b[49m\u001b[43my_train\u001b[49m\u001b[43m)\u001b[49m\n",
      "File \u001b[1;32ms:\\projects\\vlu\\Số hóa và Quản lý thông tin số\\example_project\\Bank-Churn-Prediction\\myvenv\\lib\\site-packages\\sklearn\\base.py:1474\u001b[0m, in \u001b[0;36m_fit_context.<locals>.decorator.<locals>.wrapper\u001b[1;34m(estimator, *args, **kwargs)\u001b[0m\n\u001b[0;32m   1467\u001b[0m     estimator\u001b[38;5;241m.\u001b[39m_validate_params()\n\u001b[0;32m   1469\u001b[0m \u001b[38;5;28;01mwith\u001b[39;00m config_context(\n\u001b[0;32m   1470\u001b[0m     skip_parameter_validation\u001b[38;5;241m=\u001b[39m(\n\u001b[0;32m   1471\u001b[0m         prefer_skip_nested_validation \u001b[38;5;129;01mor\u001b[39;00m global_skip_validation\n\u001b[0;32m   1472\u001b[0m     )\n\u001b[0;32m   1473\u001b[0m ):\n\u001b[1;32m-> 1474\u001b[0m     \u001b[38;5;28;01mreturn\u001b[39;00m fit_method(estimator, \u001b[38;5;241m*\u001b[39margs, \u001b[38;5;241m*\u001b[39m\u001b[38;5;241m*\u001b[39mkwargs)\n",
      "File \u001b[1;32ms:\\projects\\vlu\\Số hóa và Quản lý thông tin số\\example_project\\Bank-Churn-Prediction\\myvenv\\lib\\site-packages\\sklearn\\model_selection\\_search.py:970\u001b[0m, in \u001b[0;36mBaseSearchCV.fit\u001b[1;34m(self, X, y, **params)\u001b[0m\n\u001b[0;32m    964\u001b[0m     results \u001b[38;5;241m=\u001b[39m \u001b[38;5;28mself\u001b[39m\u001b[38;5;241m.\u001b[39m_format_results(\n\u001b[0;32m    965\u001b[0m         all_candidate_params, n_splits, all_out, all_more_results\n\u001b[0;32m    966\u001b[0m     )\n\u001b[0;32m    968\u001b[0m     \u001b[38;5;28;01mreturn\u001b[39;00m results\n\u001b[1;32m--> 970\u001b[0m \u001b[38;5;28;43mself\u001b[39;49m\u001b[38;5;241;43m.\u001b[39;49m\u001b[43m_run_search\u001b[49m\u001b[43m(\u001b[49m\u001b[43mevaluate_candidates\u001b[49m\u001b[43m)\u001b[49m\n\u001b[0;32m    972\u001b[0m \u001b[38;5;66;03m# multimetric is determined here because in the case of a callable\u001b[39;00m\n\u001b[0;32m    973\u001b[0m \u001b[38;5;66;03m# self.scoring the return type is only known after calling\u001b[39;00m\n\u001b[0;32m    974\u001b[0m first_test_score \u001b[38;5;241m=\u001b[39m all_out[\u001b[38;5;241m0\u001b[39m][\u001b[38;5;124m\"\u001b[39m\u001b[38;5;124mtest_scores\u001b[39m\u001b[38;5;124m\"\u001b[39m]\n",
      "File \u001b[1;32ms:\\projects\\vlu\\Số hóa và Quản lý thông tin số\\example_project\\Bank-Churn-Prediction\\myvenv\\lib\\site-packages\\sklearn\\model_selection\\_search.py:1914\u001b[0m, in \u001b[0;36mRandomizedSearchCV._run_search\u001b[1;34m(self, evaluate_candidates)\u001b[0m\n\u001b[0;32m   1912\u001b[0m \u001b[38;5;28;01mdef\u001b[39;00m \u001b[38;5;21m_run_search\u001b[39m(\u001b[38;5;28mself\u001b[39m, evaluate_candidates):\n\u001b[0;32m   1913\u001b[0m \u001b[38;5;250m    \u001b[39m\u001b[38;5;124;03m\"\"\"Search n_iter candidates from param_distributions\"\"\"\u001b[39;00m\n\u001b[1;32m-> 1914\u001b[0m     \u001b[43mevaluate_candidates\u001b[49m\u001b[43m(\u001b[49m\n\u001b[0;32m   1915\u001b[0m \u001b[43m        \u001b[49m\u001b[43mParameterSampler\u001b[49m\u001b[43m(\u001b[49m\n\u001b[0;32m   1916\u001b[0m \u001b[43m            \u001b[49m\u001b[38;5;28;43mself\u001b[39;49m\u001b[38;5;241;43m.\u001b[39;49m\u001b[43mparam_distributions\u001b[49m\u001b[43m,\u001b[49m\u001b[43m \u001b[49m\u001b[38;5;28;43mself\u001b[39;49m\u001b[38;5;241;43m.\u001b[39;49m\u001b[43mn_iter\u001b[49m\u001b[43m,\u001b[49m\u001b[43m \u001b[49m\u001b[43mrandom_state\u001b[49m\u001b[38;5;241;43m=\u001b[39;49m\u001b[38;5;28;43mself\u001b[39;49m\u001b[38;5;241;43m.\u001b[39;49m\u001b[43mrandom_state\u001b[49m\n\u001b[0;32m   1917\u001b[0m \u001b[43m        \u001b[49m\u001b[43m)\u001b[49m\n\u001b[0;32m   1918\u001b[0m \u001b[43m    \u001b[49m\u001b[43m)\u001b[49m\n",
      "File \u001b[1;32ms:\\projects\\vlu\\Số hóa và Quản lý thông tin số\\example_project\\Bank-Churn-Prediction\\myvenv\\lib\\site-packages\\sklearn\\model_selection\\_search.py:947\u001b[0m, in \u001b[0;36mBaseSearchCV.fit.<locals>.evaluate_candidates\u001b[1;34m(candidate_params, cv, more_results)\u001b[0m\n\u001b[0;32m    940\u001b[0m \u001b[38;5;28;01melif\u001b[39;00m \u001b[38;5;28mlen\u001b[39m(out) \u001b[38;5;241m!=\u001b[39m n_candidates \u001b[38;5;241m*\u001b[39m n_splits:\n\u001b[0;32m    941\u001b[0m     \u001b[38;5;28;01mraise\u001b[39;00m \u001b[38;5;167;01mValueError\u001b[39;00m(\n\u001b[0;32m    942\u001b[0m         \u001b[38;5;124m\"\u001b[39m\u001b[38;5;124mcv.split and cv.get_n_splits returned \u001b[39m\u001b[38;5;124m\"\u001b[39m\n\u001b[0;32m    943\u001b[0m         \u001b[38;5;124m\"\u001b[39m\u001b[38;5;124minconsistent results. Expected \u001b[39m\u001b[38;5;132;01m{}\u001b[39;00m\u001b[38;5;124m \u001b[39m\u001b[38;5;124m\"\u001b[39m\n\u001b[0;32m    944\u001b[0m         \u001b[38;5;124m\"\u001b[39m\u001b[38;5;124msplits, got \u001b[39m\u001b[38;5;132;01m{}\u001b[39;00m\u001b[38;5;124m\"\u001b[39m\u001b[38;5;241m.\u001b[39mformat(n_splits, \u001b[38;5;28mlen\u001b[39m(out) \u001b[38;5;241m/\u001b[39m\u001b[38;5;241m/\u001b[39m n_candidates)\n\u001b[0;32m    945\u001b[0m     )\n\u001b[1;32m--> 947\u001b[0m \u001b[43m_warn_or_raise_about_fit_failures\u001b[49m\u001b[43m(\u001b[49m\u001b[43mout\u001b[49m\u001b[43m,\u001b[49m\u001b[43m \u001b[49m\u001b[38;5;28;43mself\u001b[39;49m\u001b[38;5;241;43m.\u001b[39;49m\u001b[43merror_score\u001b[49m\u001b[43m)\u001b[49m\n\u001b[0;32m    949\u001b[0m \u001b[38;5;66;03m# For callable self.scoring, the return type is only know after\u001b[39;00m\n\u001b[0;32m    950\u001b[0m \u001b[38;5;66;03m# calling. If the return type is a dictionary, the error scores\u001b[39;00m\n\u001b[0;32m    951\u001b[0m \u001b[38;5;66;03m# can now be inserted with the correct key. The type checking\u001b[39;00m\n\u001b[0;32m    952\u001b[0m \u001b[38;5;66;03m# of out will be done in `_insert_error_scores`.\u001b[39;00m\n\u001b[0;32m    953\u001b[0m \u001b[38;5;28;01mif\u001b[39;00m \u001b[38;5;28mcallable\u001b[39m(\u001b[38;5;28mself\u001b[39m\u001b[38;5;241m.\u001b[39mscoring):\n",
      "File \u001b[1;32ms:\\projects\\vlu\\Số hóa và Quản lý thông tin số\\example_project\\Bank-Churn-Prediction\\myvenv\\lib\\site-packages\\sklearn\\model_selection\\_validation.py:536\u001b[0m, in \u001b[0;36m_warn_or_raise_about_fit_failures\u001b[1;34m(results, error_score)\u001b[0m\n\u001b[0;32m    529\u001b[0m \u001b[38;5;28;01mif\u001b[39;00m num_failed_fits \u001b[38;5;241m==\u001b[39m num_fits:\n\u001b[0;32m    530\u001b[0m     all_fits_failed_message \u001b[38;5;241m=\u001b[39m (\n\u001b[0;32m    531\u001b[0m         \u001b[38;5;124mf\u001b[39m\u001b[38;5;124m\"\u001b[39m\u001b[38;5;130;01m\\n\u001b[39;00m\u001b[38;5;124mAll the \u001b[39m\u001b[38;5;132;01m{\u001b[39;00mnum_fits\u001b[38;5;132;01m}\u001b[39;00m\u001b[38;5;124m fits failed.\u001b[39m\u001b[38;5;130;01m\\n\u001b[39;00m\u001b[38;5;124m\"\u001b[39m\n\u001b[0;32m    532\u001b[0m         \u001b[38;5;124m\"\u001b[39m\u001b[38;5;124mIt is very likely that your model is misconfigured.\u001b[39m\u001b[38;5;130;01m\\n\u001b[39;00m\u001b[38;5;124m\"\u001b[39m\n\u001b[0;32m    533\u001b[0m         \u001b[38;5;124m\"\u001b[39m\u001b[38;5;124mYou can try to debug the error by setting error_score=\u001b[39m\u001b[38;5;124m'\u001b[39m\u001b[38;5;124mraise\u001b[39m\u001b[38;5;124m'\u001b[39m\u001b[38;5;124m.\u001b[39m\u001b[38;5;130;01m\\n\u001b[39;00m\u001b[38;5;130;01m\\n\u001b[39;00m\u001b[38;5;124m\"\u001b[39m\n\u001b[0;32m    534\u001b[0m         \u001b[38;5;124mf\u001b[39m\u001b[38;5;124m\"\u001b[39m\u001b[38;5;124mBelow are more details about the failures:\u001b[39m\u001b[38;5;130;01m\\n\u001b[39;00m\u001b[38;5;132;01m{\u001b[39;00mfit_errors_summary\u001b[38;5;132;01m}\u001b[39;00m\u001b[38;5;124m\"\u001b[39m\n\u001b[0;32m    535\u001b[0m     )\n\u001b[1;32m--> 536\u001b[0m     \u001b[38;5;28;01mraise\u001b[39;00m \u001b[38;5;167;01mValueError\u001b[39;00m(all_fits_failed_message)\n\u001b[0;32m    538\u001b[0m \u001b[38;5;28;01melse\u001b[39;00m:\n\u001b[0;32m    539\u001b[0m     some_fits_failed_message \u001b[38;5;241m=\u001b[39m (\n\u001b[0;32m    540\u001b[0m         \u001b[38;5;124mf\u001b[39m\u001b[38;5;124m\"\u001b[39m\u001b[38;5;130;01m\\n\u001b[39;00m\u001b[38;5;132;01m{\u001b[39;00mnum_failed_fits\u001b[38;5;132;01m}\u001b[39;00m\u001b[38;5;124m fits failed out of a total of \u001b[39m\u001b[38;5;132;01m{\u001b[39;00mnum_fits\u001b[38;5;132;01m}\u001b[39;00m\u001b[38;5;124m.\u001b[39m\u001b[38;5;130;01m\\n\u001b[39;00m\u001b[38;5;124m\"\u001b[39m\n\u001b[0;32m    541\u001b[0m         \u001b[38;5;124m\"\u001b[39m\u001b[38;5;124mThe score on these train-test partitions for these parameters\u001b[39m\u001b[38;5;124m\"\u001b[39m\n\u001b[1;32m   (...)\u001b[0m\n\u001b[0;32m    545\u001b[0m         \u001b[38;5;124mf\u001b[39m\u001b[38;5;124m\"\u001b[39m\u001b[38;5;124mBelow are more details about the failures:\u001b[39m\u001b[38;5;130;01m\\n\u001b[39;00m\u001b[38;5;132;01m{\u001b[39;00mfit_errors_summary\u001b[38;5;132;01m}\u001b[39;00m\u001b[38;5;124m\"\u001b[39m\n\u001b[0;32m    546\u001b[0m     )\n",
      "\u001b[1;31mValueError\u001b[0m: \nAll the 750 fits failed.\nIt is very likely that your model is misconfigured.\nYou can try to debug the error by setting error_score='raise'.\n\nBelow are more details about the failures:\n--------------------------------------------------------------------------------\n750 fits failed with the following error:\nTraceback (most recent call last):\n  File \"s:\\projects\\vlu\\Số hóa và Quản lý thông tin số\\example_project\\Bank-Churn-Prediction\\myvenv\\lib\\site-packages\\sklearn\\model_selection\\_validation.py\", line 895, in _fit_and_score\n    estimator.fit(X_train, y_train, **fit_params)\n  File \"s:\\projects\\vlu\\Số hóa và Quản lý thông tin số\\example_project\\Bank-Churn-Prediction\\myvenv\\lib\\site-packages\\sklearn\\base.py\", line 1474, in wrapper\n    return fit_method(estimator, *args, **kwargs)\n  File \"s:\\projects\\vlu\\Số hóa và Quản lý thông tin số\\example_project\\Bank-Churn-Prediction\\myvenv\\lib\\site-packages\\imblearn\\pipeline.py\", line 326, in fit\n    self._final_estimator.fit(Xt, yt, **last_step_params[\"fit\"])\n  File \"s:\\projects\\vlu\\Số hóa và Quản lý thông tin số\\example_project\\Bank-Churn-Prediction\\myvenv\\lib\\site-packages\\scikeras\\wrappers.py\", line 1491, in fit\n    super().fit(X=X, y=y, sample_weight=sample_weight, **kwargs)\n  File \"s:\\projects\\vlu\\Số hóa và Quản lý thông tin số\\example_project\\Bank-Churn-Prediction\\myvenv\\lib\\site-packages\\scikeras\\wrappers.py\", line 760, in fit\n    self._fit(\n  File \"s:\\projects\\vlu\\Số hóa và Quản lý thông tin số\\example_project\\Bank-Churn-Prediction\\myvenv\\lib\\site-packages\\scikeras\\wrappers.py\", line 928, in _fit\n    self._fit_keras_model(\n  File \"s:\\projects\\vlu\\Số hóa và Quản lý thông tin số\\example_project\\Bank-Churn-Prediction\\myvenv\\lib\\site-packages\\scikeras\\wrappers.py\", line 536, in _fit_keras_model\n    raise e\n  File \"s:\\projects\\vlu\\Số hóa và Quản lý thông tin số\\example_project\\Bank-Churn-Prediction\\myvenv\\lib\\site-packages\\scikeras\\wrappers.py\", line 531, in _fit_keras_model\n    key = metric_name(key)\n  File \"s:\\projects\\vlu\\Số hóa và Quản lý thông tin số\\example_project\\Bank-Churn-Prediction\\myvenv\\lib\\site-packages\\scikeras\\utils\\__init__.py\", line 111, in metric_name\n    fn_or_cls = keras_metric_get(metric)\n  File \"s:\\projects\\vlu\\Số hóa và Quản lý thông tin số\\example_project\\Bank-Churn-Prediction\\myvenv\\lib\\site-packages\\keras\\src\\metrics\\__init__.py\", line 204, in get\n    raise ValueError(f\"Could not interpret metric identifier: {identifier}\")\nValueError: Could not interpret metric identifier: loss\n"
     ]
    }
   ],
   "source": [
    "# Fit the model\n",
    "rsearch.fit(X_train, y_train)"
   ]
  },
  {
   "cell_type": "markdown",
   "metadata": {},
   "source": [
    "#### Train the model with RandomizedSearch"
   ]
  },
  {
   "cell_type": "markdown",
   "metadata": {},
   "source": [
    "## Quantify our Trained Model¶"
   ]
  },
  {
   "cell_type": "code",
   "execution_count": null,
   "metadata": {
    "execution": {
     "iopub.execute_input": "2022-11-28T11:27:05.961027Z",
     "iopub.status.busy": "2022-11-28T11:27:05.961027Z",
     "iopub.status.idle": "2022-11-28T11:27:05.988023Z",
     "shell.execute_reply": "2022-11-28T11:27:05.987024Z",
     "shell.execute_reply.started": "2022-11-28T11:27:05.961027Z"
    },
    "tags": []
   },
   "outputs": [
    {
     "ename": "AttributeError",
     "evalue": "'RandomizedSearchCV' object has no attribute 'best_score_'",
     "output_type": "error",
     "traceback": [
      "\u001b[1;31m---------------------------------------------------------------------------\u001b[0m",
      "\u001b[1;31mAttributeError\u001b[0m                            Traceback (most recent call last)",
      "Cell \u001b[1;32mIn[77], line 2\u001b[0m\n\u001b[0;32m      1\u001b[0m \u001b[38;5;66;03m# Summarize result\u001b[39;00m\n\u001b[1;32m----> 2\u001b[0m \u001b[38;5;28mprint\u001b[39m(\u001b[38;5;124mf\u001b[39m\u001b[38;5;124m\"\u001b[39m\u001b[38;5;124mBest Score: \u001b[39m\u001b[38;5;132;01m{\u001b[39;00mrsearch\u001b[38;5;241m.\u001b[39mbest_score_\u001b[38;5;132;01m}\u001b[39;00m\u001b[38;5;124m  using:\u001b[39m\u001b[38;5;130;01m\\n\u001b[39;00m\u001b[38;5;132;01m{\u001b[39;00mrsearch\u001b[38;5;241m.\u001b[39mbest_params_\u001b[38;5;132;01m}\u001b[39;00m\u001b[38;5;124m\"\u001b[39m)\n",
      "\u001b[1;31mAttributeError\u001b[0m: 'RandomizedSearchCV' object has no attribute 'best_score_'"
     ]
    }
   ],
   "source": [
    "# Summarize result\n",
    "print(f\"Best Score: {rsearch.best_score_}  using:\\n{rsearch.best_params_}\")"
   ]
  },
  {
   "cell_type": "code",
   "execution_count": null,
   "metadata": {
    "execution": {
     "iopub.execute_input": "2022-11-28T11:27:18.078425Z",
     "iopub.status.busy": "2022-11-28T11:27:18.078425Z",
     "iopub.status.idle": "2022-11-28T11:27:19.420726Z",
     "shell.execute_reply": "2022-11-28T11:27:19.419725Z",
     "shell.execute_reply.started": "2022-11-28T11:27:18.078425Z"
    },
    "scrolled": true,
    "tags": []
   },
   "outputs": [
    {
     "name": "stdout",
     "output_type": "stream",
     "text": [
      "Training Data Score: 0.7835422769605312\n",
      "Testing Data Score: 0.757240711833994\n"
     ]
    }
   ],
   "source": [
    "# Compare training and testing scores\n",
    "print(f\"Training Data Score: {rsearch.score(X_train, y_train)}\")\n",
    "print(f\"Testing Data Score: {rsearch.score(X_test, y_test)}\")"
   ]
  },
  {
   "cell_type": "markdown",
   "metadata": {},
   "source": [
    "## Make Predictions"
   ]
  },
  {
   "cell_type": "code",
   "execution_count": null,
   "metadata": {
    "execution": {
     "iopub.execute_input": "2022-11-28T11:27:29.936772Z",
     "iopub.status.busy": "2022-11-28T11:27:29.936772Z",
     "iopub.status.idle": "2022-11-28T11:27:30.189196Z",
     "shell.execute_reply": "2022-11-28T11:27:30.188150Z",
     "shell.execute_reply.started": "2022-11-28T11:27:29.936772Z"
    },
    "scrolled": true,
    "tags": []
   },
   "outputs": [
    {
     "data": {
      "text/plain": [
       "array([0, 0, 0, ..., 1, 0, 0], dtype=int64)"
      ]
     },
     "execution_count": 49,
     "metadata": {},
     "output_type": "execute_result"
    }
   ],
   "source": [
    "# Make predictions with the hypertuned model\n",
    "pred = rsearch.predict(X_test)\n",
    "pred"
   ]
  },
  {
   "cell_type": "code",
   "execution_count": null,
   "metadata": {
    "execution": {
     "iopub.execute_input": "2022-11-28T11:27:44.228057Z",
     "iopub.status.busy": "2022-11-28T11:27:44.227056Z",
     "iopub.status.idle": "2022-11-28T11:27:44.247056Z",
     "shell.execute_reply": "2022-11-28T11:27:44.246052Z",
     "shell.execute_reply.started": "2022-11-28T11:27:44.228057Z"
    },
    "tags": []
   },
   "outputs": [
    {
     "data": {
      "text/plain": [
       "0.7333333333333333"
      ]
     },
     "execution_count": 50,
     "metadata": {},
     "output_type": "execute_result"
    }
   ],
   "source": [
    "accuracy_score(y_test, pred)"
   ]
  },
  {
   "cell_type": "markdown",
   "metadata": {},
   "source": [
    "#### Classification metrics"
   ]
  },
  {
   "cell_type": "code",
   "execution_count": null,
   "metadata": {
    "execution": {
     "iopub.execute_input": "2022-11-28T11:28:00.151514Z",
     "iopub.status.busy": "2022-11-28T11:28:00.150514Z",
     "iopub.status.idle": "2022-11-28T11:28:00.179905Z",
     "shell.execute_reply": "2022-11-28T11:28:00.178907Z",
     "shell.execute_reply.started": "2022-11-28T11:28:00.151514Z"
    },
    "tags": []
   },
   "outputs": [
    {
     "name": "stdout",
     "output_type": "stream",
     "text": [
      "[[1718  671]\n",
      " [ 129  482]]\n"
     ]
    }
   ],
   "source": [
    "# Confusion matrix\n",
    "cm = confusion_matrix(y_test, pred)\n",
    "print(cm)"
   ]
  },
  {
   "cell_type": "code",
   "execution_count": null,
   "metadata": {
    "execution": {
     "iopub.execute_input": "2022-11-28T11:28:03.756280Z",
     "iopub.status.busy": "2022-11-28T11:28:03.755281Z",
     "iopub.status.idle": "2022-11-28T11:28:03.777317Z",
     "shell.execute_reply": "2022-11-28T11:28:03.776317Z",
     "shell.execute_reply.started": "2022-11-28T11:28:03.756280Z"
    },
    "tags": []
   },
   "outputs": [
    {
     "name": "stdout",
     "output_type": "stream",
     "text": [
      "[[0.72 0.28]\n",
      " [0.21 0.79]]\n"
     ]
    }
   ],
   "source": [
    "# Normalized confusion matrix\n",
    "cm = np.around(cm / cm.sum(axis=1)[:, np.newaxis], 2)\n",
    "print(cm)"
   ]
  },
  {
   "cell_type": "code",
   "execution_count": null,
   "metadata": {
    "execution": {
     "iopub.execute_input": "2022-11-28T14:41:38.562815Z",
     "iopub.status.busy": "2022-11-28T14:41:38.561816Z",
     "iopub.status.idle": "2022-11-28T14:41:38.607344Z",
     "shell.execute_reply": "2022-11-28T14:41:38.606342Z",
     "shell.execute_reply.started": "2022-11-28T14:41:38.562815Z"
    },
    "tags": []
   },
   "outputs": [
    {
     "name": "stdout",
     "output_type": "stream",
     "text": [
      "              precision    recall  f1-score   support\n",
      "\n",
      "           0       0.93      0.72      0.81      2389\n",
      "           1       0.42      0.79      0.55       611\n",
      "\n",
      "    accuracy                           0.73      3000\n",
      "   macro avg       0.67      0.75      0.68      3000\n",
      "weighted avg       0.83      0.73      0.76      3000\n",
      "\n"
     ]
    }
   ],
   "source": [
    "# Classification report\n",
    "print(classification_report(y_test, pred))"
   ]
  },
  {
   "cell_type": "markdown",
   "metadata": {},
   "source": [
    "#### Predictions"
   ]
  },
  {
   "cell_type": "code",
   "execution_count": null,
   "metadata": {
    "execution": {
     "iopub.execute_input": "2022-11-28T14:42:09.148361Z",
     "iopub.status.busy": "2022-11-28T14:42:09.148361Z",
     "iopub.status.idle": "2022-11-28T14:42:09.178363Z",
     "shell.execute_reply": "2022-11-28T14:42:09.177363Z",
     "shell.execute_reply.started": "2022-11-28T14:42:09.148361Z"
    },
    "tags": []
   },
   "outputs": [
    {
     "name": "stdout",
     "output_type": "stream",
     "text": [
      "Predicted classes: \t[0, 0, 0, 0, 0, 1, 0, 0, 0, 0]\n",
      "Actual Labels: \t\t[1, 0, 0, 0, 0, 1, 0, 0, 0, 0]\n"
     ]
    }
   ],
   "source": [
    "print(f\"Predicted classes: \\t{list(pred[:10])}\")\n",
    "print(f\"Actual Labels: \\t\\t{list(y_test[:10])}\")"
   ]
  },
  {
   "cell_type": "code",
   "execution_count": null,
   "metadata": {
    "execution": {
     "iopub.execute_input": "2022-11-28T14:42:18.710537Z",
     "iopub.status.busy": "2022-11-28T14:42:18.710537Z",
     "iopub.status.idle": "2022-11-28T14:42:22.613804Z",
     "shell.execute_reply": "2022-11-28T14:42:22.612794Z",
     "shell.execute_reply.started": "2022-11-28T14:42:18.710537Z"
    },
    "scrolled": true,
    "tags": []
   },
   "outputs": [
    {
     "name": "stdout",
     "output_type": "stream",
     "text": [
      "Predicted classes: \t[1]\n",
      "Actual Labels: \t\t[1]\n"
     ]
    }
   ],
   "source": [
    "pred1 = rsearch.predict(X_test[5:6])\n",
    "print(f\"Predicted classes: \\t{list(pred1)}\")\n",
    "print(f\"Actual Labels: \\t\\t{list(y_test[5:6])}\")"
   ]
  },
  {
   "cell_type": "markdown",
   "metadata": {},
   "source": [
    "#### Test for new data"
   ]
  },
  {
   "cell_type": "code",
   "execution_count": null,
   "metadata": {
    "execution": {
     "iopub.execute_input": "2022-11-28T14:42:31.451804Z",
     "iopub.status.busy": "2022-11-28T14:42:31.451804Z",
     "iopub.status.idle": "2022-11-28T14:42:31.468084Z",
     "shell.execute_reply": "2022-11-28T14:42:31.467084Z",
     "shell.execute_reply.started": "2022-11-28T14:42:31.451804Z"
    },
    "tags": []
   },
   "outputs": [
    {
     "data": {
      "text/plain": [
       "array([[638, 'France', 'Male', 36, 6, 188455.19, 1, 0, 0, 47031.4]],\n",
       "      dtype=object)"
      ]
     },
     "execution_count": 56,
     "metadata": {},
     "output_type": "execute_result"
    }
   ],
   "source": [
    "X_new = X_test[0,:].reshape(1,-1)\n",
    "X_new"
   ]
  },
  {
   "cell_type": "code",
   "execution_count": null,
   "metadata": {
    "execution": {
     "iopub.execute_input": "2022-11-28T14:42:33.906566Z",
     "iopub.status.busy": "2022-11-28T14:42:33.905527Z",
     "iopub.status.idle": "2022-11-28T14:42:33.918529Z",
     "shell.execute_reply": "2022-11-28T14:42:33.917570Z",
     "shell.execute_reply.started": "2022-11-28T14:42:33.906566Z"
    },
    "tags": []
   },
   "outputs": [
    {
     "data": {
      "text/plain": [
       "(1, 10)"
      ]
     },
     "execution_count": 57,
     "metadata": {},
     "output_type": "execute_result"
    }
   ],
   "source": [
    "X_new.shape"
   ]
  },
  {
   "cell_type": "code",
   "execution_count": null,
   "metadata": {
    "execution": {
     "iopub.execute_input": "2022-11-28T14:42:39.578823Z",
     "iopub.status.busy": "2022-11-28T14:42:39.577823Z",
     "iopub.status.idle": "2022-11-28T14:42:39.760873Z",
     "shell.execute_reply": "2022-11-28T14:42:39.759871Z",
     "shell.execute_reply.started": "2022-11-28T14:42:39.578823Z"
    },
    "tags": []
   },
   "outputs": [],
   "source": [
    "pred_new = rsearch.predict(X_new)"
   ]
  },
  {
   "cell_type": "code",
   "execution_count": null,
   "metadata": {
    "execution": {
     "iopub.execute_input": "2022-11-28T14:43:22.996518Z",
     "iopub.status.busy": "2022-11-28T14:43:22.996518Z",
     "iopub.status.idle": "2022-11-28T14:43:23.010093Z",
     "shell.execute_reply": "2022-11-28T14:43:23.009095Z",
     "shell.execute_reply.started": "2022-11-28T14:43:22.996518Z"
    },
    "scrolled": true,
    "tags": []
   },
   "outputs": [
    {
     "name": "stdout",
     "output_type": "stream",
     "text": [
      "Predicted classes: \t[0]\n",
      "Actual Labels: \t\t[1]\n"
     ]
    }
   ],
   "source": [
    "print(f\"Predicted classes: \\t{list(pred_new)}\")\n",
    "print(f\"Actual Labels: \\t\\t{list(y_test[:1])}\")"
   ]
  },
  {
   "cell_type": "markdown",
   "metadata": {},
   "source": [
    "## Saving a Trained Model"
   ]
  },
  {
   "cell_type": "code",
   "execution_count": null,
   "metadata": {
    "execution": {
     "iopub.execute_input": "2022-11-28T14:44:00.087204Z",
     "iopub.status.busy": "2022-11-28T14:44:00.087204Z",
     "iopub.status.idle": "2022-11-28T14:44:01.571271Z",
     "shell.execute_reply": "2022-11-28T14:44:01.570271Z",
     "shell.execute_reply.started": "2022-11-28T14:44:00.087204Z"
    },
    "tags": []
   },
   "outputs": [
    {
     "name": "stdout",
     "output_type": "stream",
     "text": [
      "INFO:tensorflow:Assets written to: C:\\Users\\zunic\\AppData\\Local\\Temp\\tmpncziu2ys\\assets\n",
      "INFO:tensorflow:Assets written to: C:\\Users\\zunic\\AppData\\Local\\Temp\\tmphfdf4ki6\\assets\n"
     ]
    },
    {
     "data": {
      "text/plain": [
       "['../models/scikeras.sav']"
      ]
     },
     "execution_count": 60,
     "metadata": {},
     "output_type": "execute_result"
    }
   ],
   "source": [
    "file = '../models/scikeras.sav'\n",
    "joblib.dump(rsearch, file)"
   ]
  },
  {
   "cell_type": "code",
   "execution_count": null,
   "metadata": {
    "execution": {
     "iopub.execute_input": "2022-11-28T14:44:16.603179Z",
     "iopub.status.busy": "2022-11-28T14:44:16.602178Z",
     "iopub.status.idle": "2022-11-28T14:44:16.610723Z",
     "shell.execute_reply": "2022-11-28T14:44:16.609602Z",
     "shell.execute_reply.started": "2022-11-28T14:44:16.603179Z"
    },
    "tags": []
   },
   "outputs": [
    {
     "data": {
      "text/plain": [
       "sklearn.model_selection._search.RandomizedSearchCV"
      ]
     },
     "execution_count": 61,
     "metadata": {},
     "output_type": "execute_result"
    }
   ],
   "source": [
    "type(rsearch)"
   ]
  },
  {
   "cell_type": "markdown",
   "metadata": {},
   "source": [
    "## Loading a Saved Model"
   ]
  },
  {
   "cell_type": "code",
   "execution_count": null,
   "metadata": {
    "execution": {
     "iopub.execute_input": "2022-11-28T14:44:26.923095Z",
     "iopub.status.busy": "2022-11-28T14:44:26.923095Z",
     "iopub.status.idle": "2022-11-28T14:44:27.562623Z",
     "shell.execute_reply": "2022-11-28T14:44:27.561640Z",
     "shell.execute_reply.started": "2022-11-28T14:44:26.923095Z"
    },
    "tags": []
   },
   "outputs": [],
   "source": [
    "# Load the saved model\n",
    "l_model = joblib.load(file)"
   ]
  },
  {
   "cell_type": "markdown",
   "metadata": {},
   "source": [
    "## Evaluating the loaded model¶"
   ]
  },
  {
   "cell_type": "code",
   "execution_count": null,
   "metadata": {
    "execution": {
     "iopub.execute_input": "2022-11-28T14:44:50.201476Z",
     "iopub.status.busy": "2022-11-28T14:44:50.201476Z",
     "iopub.status.idle": "2022-11-28T14:44:50.486522Z",
     "shell.execute_reply": "2022-11-28T14:44:50.485551Z",
     "shell.execute_reply.started": "2022-11-28T14:44:50.201476Z"
    },
    "tags": []
   },
   "outputs": [
    {
     "name": "stdout",
     "output_type": "stream",
     "text": [
      "0.757240711833994\n"
     ]
    }
   ],
   "source": [
    "print(l_model.score(X_test, y_test))"
   ]
  },
  {
   "cell_type": "code",
   "execution_count": null,
   "metadata": {
    "execution": {
     "iopub.execute_input": "2022-11-28T14:45:04.436983Z",
     "iopub.status.busy": "2022-11-28T14:45:04.435983Z",
     "iopub.status.idle": "2022-11-28T14:45:04.672607Z",
     "shell.execute_reply": "2022-11-28T14:45:04.671604Z",
     "shell.execute_reply.started": "2022-11-28T14:45:04.436983Z"
    },
    "tags": []
   },
   "outputs": [],
   "source": [
    "# Make predictions with the hypertuned model\n",
    "predl = l_model.predict(X_test)"
   ]
  },
  {
   "cell_type": "code",
   "execution_count": null,
   "metadata": {
    "execution": {
     "iopub.execute_input": "2022-11-28T14:45:05.827435Z",
     "iopub.status.busy": "2022-11-28T14:45:05.826435Z",
     "iopub.status.idle": "2022-11-28T14:45:05.849495Z",
     "shell.execute_reply": "2022-11-28T14:45:05.848494Z",
     "shell.execute_reply.started": "2022-11-28T14:45:05.827435Z"
    },
    "tags": []
   },
   "outputs": [
    {
     "data": {
      "text/plain": [
       "0.7333333333333333"
      ]
     },
     "execution_count": 65,
     "metadata": {},
     "output_type": "execute_result"
    }
   ],
   "source": [
    "accuracy_score(y_test, predl)"
   ]
  },
  {
   "cell_type": "code",
   "execution_count": null,
   "metadata": {
    "execution": {
     "iopub.execute_input": "2022-11-28T14:45:59.901853Z",
     "iopub.status.busy": "2022-11-28T14:45:59.900853Z",
     "iopub.status.idle": "2022-11-28T14:45:59.920854Z",
     "shell.execute_reply": "2022-11-28T14:45:59.919893Z",
     "shell.execute_reply.started": "2022-11-28T14:45:59.901853Z"
    },
    "tags": []
   },
   "outputs": [
    {
     "name": "stdout",
     "output_type": "stream",
     "text": [
      "[[1718  671]\n",
      " [ 129  482]]\n"
     ]
    }
   ],
   "source": [
    "cm = confusion_matrix(y_test, predl)\n",
    "print(cm)"
   ]
  },
  {
   "cell_type": "code",
   "execution_count": null,
   "metadata": {
    "execution": {
     "iopub.execute_input": "2022-11-28T14:46:03.571138Z",
     "iopub.status.busy": "2022-11-28T14:46:03.571138Z",
     "iopub.status.idle": "2022-11-28T14:46:03.581101Z",
     "shell.execute_reply": "2022-11-28T14:46:03.580099Z",
     "shell.execute_reply.started": "2022-11-28T14:46:03.571138Z"
    },
    "tags": []
   },
   "outputs": [
    {
     "name": "stdout",
     "output_type": "stream",
     "text": [
      "[[0.72 0.28]\n",
      " [0.21 0.79]]\n"
     ]
    }
   ],
   "source": [
    "# Normalized confusion matrix\n",
    "cm = np.around(cm / cm.sum(axis=1)[:, np.newaxis], 2)\n",
    "print(cm)"
   ]
  },
  {
   "cell_type": "markdown",
   "metadata": {},
   "source": [
    "All looks good."
   ]
  },
  {
   "cell_type": "markdown",
   "metadata": {},
   "source": [
    "### Predict class for new data"
   ]
  },
  {
   "cell_type": "code",
   "execution_count": null,
   "metadata": {
    "execution": {
     "iopub.execute_input": "2022-11-28T14:46:15.574946Z",
     "iopub.status.busy": "2022-11-28T14:46:15.574946Z",
     "iopub.status.idle": "2022-11-28T14:46:15.581949Z",
     "shell.execute_reply": "2022-11-28T14:46:15.580948Z",
     "shell.execute_reply.started": "2022-11-28T14:46:15.574946Z"
    },
    "tags": []
   },
   "outputs": [
    {
     "data": {
      "text/plain": [
       "array([[638, 'France', 'Male', 36, 6, 188455.19, 1, 0, 0, 47031.4]],\n",
       "      dtype=object)"
      ]
     },
     "execution_count": 68,
     "metadata": {},
     "output_type": "execute_result"
    }
   ],
   "source": [
    "# Let's use the first X_test record as new data\n",
    "X_test[:1]"
   ]
  },
  {
   "cell_type": "code",
   "execution_count": null,
   "metadata": {
    "execution": {
     "iopub.execute_input": "2022-11-28T14:46:25.833158Z",
     "iopub.status.busy": "2022-11-28T14:46:25.833158Z",
     "iopub.status.idle": "2022-11-28T14:46:26.006481Z",
     "shell.execute_reply": "2022-11-28T14:46:26.005800Z",
     "shell.execute_reply.started": "2022-11-28T14:46:25.833158Z"
    },
    "tags": []
   },
   "outputs": [],
   "source": [
    "predl_new = l_model.predict(X_test[:1])"
   ]
  },
  {
   "cell_type": "code",
   "execution_count": null,
   "metadata": {
    "execution": {
     "iopub.execute_input": "2022-11-28T14:46:28.514818Z",
     "iopub.status.busy": "2022-11-28T14:46:28.514818Z",
     "iopub.status.idle": "2022-11-28T14:46:28.534860Z",
     "shell.execute_reply": "2022-11-28T14:46:28.533885Z",
     "shell.execute_reply.started": "2022-11-28T14:46:28.514818Z"
    },
    "tags": []
   },
   "outputs": [
    {
     "name": "stdout",
     "output_type": "stream",
     "text": [
      "Predicted classes: \t[0]\n",
      "Actual Labels: \t\t[1]\n"
     ]
    }
   ],
   "source": [
    "print(f\"Predicted classes: \\t{list(predl_new)}\")\n",
    "print(f\"Actual Labels: \\t\\t{list(y_test[:1])}\")"
   ]
  }
 ],
 "metadata": {
  "kernelspec": {
   "display_name": "myvenv",
   "language": "python",
   "name": "python3"
  },
  "language_info": {
   "codemirror_mode": {
    "name": "ipython",
    "version": 3
   },
   "file_extension": ".py",
   "mimetype": "text/x-python",
   "name": "python",
   "nbconvert_exporter": "python",
   "pygments_lexer": "ipython3",
   "version": "3.10.0"
  }
 },
 "nbformat": 4,
 "nbformat_minor": 4
}
